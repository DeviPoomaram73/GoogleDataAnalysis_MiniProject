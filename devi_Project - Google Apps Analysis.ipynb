{
 "cells": [
  {
   "cell_type": "markdown",
   "metadata": {},
   "source": [
    "## Introduction\n",
    "Mini project- explore and analyze the Google Apps dataset."
   ]
  },
  {
   "cell_type": "code",
   "execution_count": 54,
   "metadata": {},
   "outputs": [],
   "source": [
    "%matplotlib inline\n",
    "\n",
    "import numpy as np\n",
    "import pandas as pd\n",
    "import matplotlib.pyplot as plt\n",
    "import seaborn as sns\n",
    "\n",
    "#To hide Warning messages.\n",
    "import warnings\n",
    "warnings.filterwarnings(\"ignore\")"
   ]
  },
  {
   "cell_type": "code",
   "execution_count": 55,
   "metadata": {},
   "outputs": [],
   "source": [
    "apps = pd.read_csv('googleplaystore.csv')"
   ]
  },
  {
   "cell_type": "code",
   "execution_count": 56,
   "metadata": {},
   "outputs": [
    {
     "data": {
      "text/html": [
       "<div>\n",
       "<style scoped>\n",
       "    .dataframe tbody tr th:only-of-type {\n",
       "        vertical-align: middle;\n",
       "    }\n",
       "\n",
       "    .dataframe tbody tr th {\n",
       "        vertical-align: top;\n",
       "    }\n",
       "\n",
       "    .dataframe thead th {\n",
       "        text-align: right;\n",
       "    }\n",
       "</style>\n",
       "<table border=\"1\" class=\"dataframe\">\n",
       "  <thead>\n",
       "    <tr style=\"text-align: right;\">\n",
       "      <th></th>\n",
       "      <th>App</th>\n",
       "      <th>Category</th>\n",
       "      <th>Rating</th>\n",
       "      <th>Reviews</th>\n",
       "      <th>Size</th>\n",
       "      <th>Installs</th>\n",
       "      <th>Type</th>\n",
       "      <th>Price</th>\n",
       "      <th>Content Rating</th>\n",
       "      <th>Genres</th>\n",
       "      <th>Last Updated</th>\n",
       "      <th>Current Ver</th>\n",
       "      <th>Android Ver</th>\n",
       "    </tr>\n",
       "  </thead>\n",
       "  <tbody>\n",
       "    <tr>\n",
       "      <th>0</th>\n",
       "      <td>Photo Editor &amp; Candy Camera &amp; Grid &amp; ScrapBook</td>\n",
       "      <td>ART_AND_DESIGN</td>\n",
       "      <td>4.1</td>\n",
       "      <td>159.0</td>\n",
       "      <td>19M</td>\n",
       "      <td>10,000+</td>\n",
       "      <td>Free</td>\n",
       "      <td>0</td>\n",
       "      <td>Everyone</td>\n",
       "      <td>Art &amp; Design</td>\n",
       "      <td>2018-01-07</td>\n",
       "      <td>1.0.0</td>\n",
       "      <td>4.0.3 and up</td>\n",
       "    </tr>\n",
       "    <tr>\n",
       "      <th>1</th>\n",
       "      <td>Coloring book moana</td>\n",
       "      <td>ART_AND_DESIGN</td>\n",
       "      <td>3.9</td>\n",
       "      <td>967.0</td>\n",
       "      <td>14M</td>\n",
       "      <td>500,000+</td>\n",
       "      <td>Free</td>\n",
       "      <td>0</td>\n",
       "      <td>Everyone</td>\n",
       "      <td>Art &amp; Design;Pretend Play</td>\n",
       "      <td>2018-01-15</td>\n",
       "      <td>2.0.0</td>\n",
       "      <td>4.0.3 and up</td>\n",
       "    </tr>\n",
       "    <tr>\n",
       "      <th>2</th>\n",
       "      <td>U Launcher Lite – FREE Live Cool Themes, Hide ...</td>\n",
       "      <td>ART_AND_DESIGN</td>\n",
       "      <td>4.7</td>\n",
       "      <td>87510.0</td>\n",
       "      <td>8.7M</td>\n",
       "      <td>5,000,000+</td>\n",
       "      <td>Free</td>\n",
       "      <td>0</td>\n",
       "      <td>Everyone</td>\n",
       "      <td>Art &amp; Design</td>\n",
       "      <td>2018-08-01</td>\n",
       "      <td>1.2.4</td>\n",
       "      <td>4.0.3 and up</td>\n",
       "    </tr>\n",
       "    <tr>\n",
       "      <th>3</th>\n",
       "      <td>Sketch - Draw &amp; Paint</td>\n",
       "      <td>ART_AND_DESIGN</td>\n",
       "      <td>4.5</td>\n",
       "      <td>215644.0</td>\n",
       "      <td>25M</td>\n",
       "      <td>50,000,000+</td>\n",
       "      <td>Free</td>\n",
       "      <td>0</td>\n",
       "      <td>Teen</td>\n",
       "      <td>Art &amp; Design</td>\n",
       "      <td>2018-06-08</td>\n",
       "      <td>Varies with device</td>\n",
       "      <td>4.2 and up</td>\n",
       "    </tr>\n",
       "    <tr>\n",
       "      <th>4</th>\n",
       "      <td>Pixel Draw - Number Art Coloring Book</td>\n",
       "      <td>ART_AND_DESIGN</td>\n",
       "      <td>4.3</td>\n",
       "      <td>967.0</td>\n",
       "      <td>2.8M</td>\n",
       "      <td>100,000+</td>\n",
       "      <td>Free</td>\n",
       "      <td>0</td>\n",
       "      <td>Everyone</td>\n",
       "      <td>Art &amp; Design;Creativity</td>\n",
       "      <td>2018-06-20</td>\n",
       "      <td>1.1</td>\n",
       "      <td>4.4 and up</td>\n",
       "    </tr>\n",
       "  </tbody>\n",
       "</table>\n",
       "</div>"
      ],
      "text/plain": [
       "                                                 App        Category  Rating  \\\n",
       "0     Photo Editor & Candy Camera & Grid & ScrapBook  ART_AND_DESIGN     4.1   \n",
       "1                                Coloring book moana  ART_AND_DESIGN     3.9   \n",
       "2  U Launcher Lite – FREE Live Cool Themes, Hide ...  ART_AND_DESIGN     4.7   \n",
       "3                              Sketch - Draw & Paint  ART_AND_DESIGN     4.5   \n",
       "4              Pixel Draw - Number Art Coloring Book  ART_AND_DESIGN     4.3   \n",
       "\n",
       "    Reviews  Size     Installs  Type Price Content Rating  \\\n",
       "0     159.0   19M      10,000+  Free     0       Everyone   \n",
       "1     967.0   14M     500,000+  Free     0       Everyone   \n",
       "2   87510.0  8.7M   5,000,000+  Free     0       Everyone   \n",
       "3  215644.0   25M  50,000,000+  Free     0           Teen   \n",
       "4     967.0  2.8M     100,000+  Free     0       Everyone   \n",
       "\n",
       "                      Genres Last Updated         Current Ver   Android Ver  \n",
       "0               Art & Design   2018-01-07               1.0.0  4.0.3 and up  \n",
       "1  Art & Design;Pretend Play   2018-01-15               2.0.0  4.0.3 and up  \n",
       "2               Art & Design   2018-08-01               1.2.4  4.0.3 and up  \n",
       "3               Art & Design   2018-06-08  Varies with device    4.2 and up  \n",
       "4    Art & Design;Creativity   2018-06-20                 1.1    4.4 and up  "
      ]
     },
     "execution_count": 56,
     "metadata": {},
     "output_type": "execute_result"
    }
   ],
   "source": [
    "apps.head()"
   ]
  },
  {
   "cell_type": "code",
   "execution_count": 57,
   "metadata": {},
   "outputs": [
    {
     "data": {
      "text/plain": [
       "10841"
      ]
     },
     "execution_count": 57,
     "metadata": {},
     "output_type": "execute_result"
    }
   ],
   "source": [
    "len(apps)"
   ]
  },
  {
   "cell_type": "code",
   "execution_count": 58,
   "metadata": {},
   "outputs": [
    {
     "name": "stdout",
     "output_type": "stream",
     "text": [
      "<class 'pandas.core.frame.DataFrame'>\n",
      "RangeIndex: 10841 entries, 0 to 10840\n",
      "Data columns (total 13 columns):\n",
      "App               10841 non-null object\n",
      "Category          10840 non-null object\n",
      "Rating            9367 non-null float64\n",
      "Reviews           10841 non-null float64\n",
      "Size              10841 non-null object\n",
      "Installs          10841 non-null object\n",
      "Type              10840 non-null object\n",
      "Price             10841 non-null object\n",
      "Content Rating    10841 non-null object\n",
      "Genres            10840 non-null object\n",
      "Last Updated      10841 non-null object\n",
      "Current Ver       10833 non-null object\n",
      "Android Ver       10839 non-null object\n",
      "dtypes: float64(2), object(11)\n",
      "memory usage: 1.1+ MB\n"
     ]
    },
    {
     "data": {
      "text/plain": [
       "(10841, 13)"
      ]
     },
     "execution_count": 58,
     "metadata": {},
     "output_type": "execute_result"
    }
   ],
   "source": [
    "apps.info()\n",
    "apps.shape"
   ]
  },
  {
   "cell_type": "code",
   "execution_count": 59,
   "metadata": {
    "scrolled": true
   },
   "outputs": [
    {
     "name": "stdout",
     "output_type": "stream",
     "text": [
      "No: of Rows:  10841\n",
      "\n",
      "No: of Columns:  13\n",
      "\n",
      "Column Names:  ['App', 'Category', 'Rating', 'Reviews', 'Size', 'Installs', 'Type', 'Price', 'Content Rating', 'Genres', 'Last Updated', 'Current Ver', 'Android Ver']\n",
      "\n",
      "No: of Missing values:  1487\n"
     ]
    }
   ],
   "source": [
    "print('No: of Rows: ',apps.shape[0])\n",
    "print('\\nNo: of Columns: ',apps.shape[1])\n",
    "print('\\nColumn Names: ',apps.columns.tolist())\n",
    "print('\\nNo: of Missing values: ',apps.isnull().sum().values.sum())"
   ]
  },
  {
   "cell_type": "markdown",
   "metadata": {
    "scrolled": true
   },
   "source": [
    "### Data Cleaning"
   ]
  },
  {
   "cell_type": "code",
   "execution_count": 62,
   "metadata": {},
   "outputs": [
    {
     "name": "stdout",
     "output_type": "stream",
     "text": [
      "<class 'pandas.core.frame.DataFrame'>\n",
      "Int64Index: 9360 entries, 0 to 10840\n",
      "Data columns (total 13 columns):\n",
      "App               9360 non-null object\n",
      "Category          9360 non-null object\n",
      "Rating            9360 non-null float64\n",
      "Reviews           9360 non-null float64\n",
      "Size              9360 non-null object\n",
      "Installs          9360 non-null object\n",
      "Type              9360 non-null object\n",
      "Price             9360 non-null object\n",
      "Content Rating    9360 non-null object\n",
      "Genres            9360 non-null object\n",
      "Last Updated      9360 non-null object\n",
      "Current Ver       9360 non-null object\n",
      "Android Ver       9360 non-null object\n",
      "dtypes: float64(2), object(11)\n",
      "memory usage: 1023.8+ KB\n"
     ]
    },
    {
     "data": {
      "text/plain": [
       "(9360, 13)"
      ]
     },
     "execution_count": 62,
     "metadata": {},
     "output_type": "execute_result"
    }
   ],
   "source": [
    "apps=apps.dropna()  # dropping null values\n",
    "apps.info()\n",
    "apps.shape"
   ]
  },
  {
   "cell_type": "code",
   "execution_count": 63,
   "metadata": {},
   "outputs": [],
   "source": [
    "# remove white space in column name\n",
    "apps.columns = apps.columns.str.replace(' ', '') "
   ]
  },
  {
   "cell_type": "code",
   "execution_count": 64,
   "metadata": {},
   "outputs": [
    {
     "data": {
      "text/plain": [
       "array(['19M', '14M', '8.7M', '25M', '2.8M', '5.6M', '29M', '33M', '3.1M',\n",
       "       '28M', '12M', '20M', '21M', '37M', '5.5M', '17M', '39M', '31M',\n",
       "       '4.2M', '23M', '6.0M', '6.1M', '4.6M', '9.2M', '5.2M', '11M',\n",
       "       '24M', 'Varies with device', '9.4M', '15M', '10M', '1.2M', '26M',\n",
       "       '8.0M', '7.9M', '56M', '57M', '35M', '54M', '201k', '3.6M', '5.7M',\n",
       "       '8.6M', '2.4M', '27M', '2.7M', '2.5M', '7.0M', '16M', '3.4M',\n",
       "       '8.9M', '3.9M', '2.9M', '38M', '32M', '5.4M', '18M', '1.1M',\n",
       "       '2.2M', '4.5M', '9.8M', '52M', '9.0M', '6.7M', '30M', '2.6M',\n",
       "       '7.1M', '22M', '6.4M', '3.2M', '8.2M', '4.9M', '9.5M', '5.0M',\n",
       "       '5.9M', '13M', '73M', '6.8M', '3.5M', '4.0M', '2.3M', '2.1M',\n",
       "       '42M', '9.1M', '55M', '23k', '7.3M', '6.5M', '1.5M', '7.5M', '51M',\n",
       "       '41M', '48M', '8.5M', '46M', '8.3M', '4.3M', '4.7M', '3.3M', '40M',\n",
       "       '7.8M', '8.8M', '6.6M', '5.1M', '61M', '66M', '79k', '8.4M',\n",
       "       '3.7M', '118k', '44M', '695k', '1.6M', '6.2M', '53M', '1.4M',\n",
       "       '3.0M', '7.2M', '5.8M', '3.8M', '9.6M', '45M', '63M', '49M', '77M',\n",
       "       '4.4M', '70M', '9.3M', '8.1M', '36M', '6.9M', '7.4M', '84M', '97M',\n",
       "       '2.0M', '1.9M', '1.8M', '5.3M', '47M', '556k', '526k', '76M',\n",
       "       '7.6M', '59M', '9.7M', '78M', '72M', '43M', '7.7M', '6.3M', '334k',\n",
       "       '93M', '65M', '79M', '100M', '58M', '50M', '68M', '64M', '34M',\n",
       "       '67M', '60M', '94M', '9.9M', '232k', '99M', '624k', '95M', '8.5k',\n",
       "       '41k', '292k', '80M', '1.7M', '10.0M', '74M', '62M', '69M', '75M',\n",
       "       '98M', '85M', '82M', '96M', '87M', '71M', '86M', '91M', '81M',\n",
       "       '92M', '83M', '88M', '704k', '862k', '899k', '378k', '4.8M',\n",
       "       '266k', '375k', '1.3M', '975k', '980k', '4.1M', '89M', '696k',\n",
       "       '544k', '525k', '920k', '779k', '853k', '720k', '713k', '772k',\n",
       "       '318k', '58k', '241k', '196k', '857k', '51k', '953k', '865k',\n",
       "       '251k', '930k', '540k', '313k', '746k', '203k', '26k', '314k',\n",
       "       '239k', '371k', '220k', '730k', '756k', '91k', '293k', '17k',\n",
       "       '74k', '14k', '317k', '78k', '924k', '818k', '81k', '939k', '169k',\n",
       "       '45k', '965k', '90M', '545k', '61k', '283k', '655k', '714k', '93k',\n",
       "       '872k', '121k', '322k', '976k', '206k', '954k', '444k', '717k',\n",
       "       '210k', '609k', '308k', '306k', '175k', '350k', '383k', '454k',\n",
       "       '1.0M', '70k', '812k', '442k', '842k', '417k', '412k', '459k',\n",
       "       '478k', '335k', '782k', '721k', '430k', '429k', '192k', '460k',\n",
       "       '728k', '496k', '816k', '414k', '506k', '887k', '613k', '778k',\n",
       "       '683k', '592k', '186k', '840k', '647k', '373k', '437k', '598k',\n",
       "       '716k', '585k', '982k', '219k', '55k', '323k', '691k', '511k',\n",
       "       '951k', '963k', '25k', '554k', '351k', '27k', '82k', '208k',\n",
       "       '551k', '29k', '103k', '116k', '153k', '209k', '499k', '173k',\n",
       "       '597k', '809k', '122k', '411k', '400k', '801k', '787k', '50k',\n",
       "       '643k', '986k', '516k', '837k', '780k', '20k', '498k', '600k',\n",
       "       '656k', '221k', '228k', '176k', '34k', '259k', '164k', '458k',\n",
       "       '629k', '28k', '288k', '775k', '785k', '636k', '916k', '994k',\n",
       "       '309k', '485k', '914k', '903k', '608k', '500k', '54k', '562k',\n",
       "       '847k', '948k', '811k', '270k', '48k', '523k', '784k', '280k',\n",
       "       '24k', '892k', '154k', '18k', '33k', '860k', '364k', '387k',\n",
       "       '626k', '161k', '879k', '39k', '170k', '141k', '160k', '144k',\n",
       "       '143k', '190k', '376k', '193k', '473k', '246k', '73k', '253k',\n",
       "       '957k', '420k', '72k', '404k', '470k', '226k', '240k', '89k',\n",
       "       '234k', '257k', '861k', '467k', '676k', '552k', '582k', '619k'],\n",
       "      dtype=object)"
      ]
     },
     "execution_count": 64,
     "metadata": {},
     "output_type": "execute_result"
    }
   ],
   "source": [
    "apps.Size.unique()"
   ]
  },
  {
   "cell_type": "code",
   "execution_count": 65,
   "metadata": {},
   "outputs": [
    {
     "data": {
      "text/html": [
       "<div>\n",
       "<style scoped>\n",
       "    .dataframe tbody tr th:only-of-type {\n",
       "        vertical-align: middle;\n",
       "    }\n",
       "\n",
       "    .dataframe tbody tr th {\n",
       "        vertical-align: top;\n",
       "    }\n",
       "\n",
       "    .dataframe thead th {\n",
       "        text-align: right;\n",
       "    }\n",
       "</style>\n",
       "<table border=\"1\" class=\"dataframe\">\n",
       "  <thead>\n",
       "    <tr style=\"text-align: right;\">\n",
       "      <th></th>\n",
       "      <th>App</th>\n",
       "      <th>Category</th>\n",
       "      <th>Rating</th>\n",
       "      <th>Reviews</th>\n",
       "      <th>Size</th>\n",
       "      <th>Installs</th>\n",
       "      <th>Type</th>\n",
       "      <th>Price</th>\n",
       "      <th>ContentRating</th>\n",
       "      <th>Genres</th>\n",
       "      <th>LastUpdated</th>\n",
       "      <th>CurrentVer</th>\n",
       "      <th>AndroidVer</th>\n",
       "    </tr>\n",
       "  </thead>\n",
       "  <tbody>\n",
       "    <tr>\n",
       "      <th>0</th>\n",
       "      <td>Photo Editor &amp; Candy Camera &amp; Grid &amp; ScrapBook</td>\n",
       "      <td>ART_AND_DESIGN</td>\n",
       "      <td>4.1</td>\n",
       "      <td>159.0</td>\n",
       "      <td>19M</td>\n",
       "      <td>10000</td>\n",
       "      <td>Free</td>\n",
       "      <td>0</td>\n",
       "      <td>Everyone</td>\n",
       "      <td>Art &amp; Design</td>\n",
       "      <td>2018-01-07</td>\n",
       "      <td>1.0.0</td>\n",
       "      <td>4.0.3 and up</td>\n",
       "    </tr>\n",
       "    <tr>\n",
       "      <th>1</th>\n",
       "      <td>Coloring book moana</td>\n",
       "      <td>ART_AND_DESIGN</td>\n",
       "      <td>3.9</td>\n",
       "      <td>967.0</td>\n",
       "      <td>14M</td>\n",
       "      <td>500000</td>\n",
       "      <td>Free</td>\n",
       "      <td>0</td>\n",
       "      <td>Everyone</td>\n",
       "      <td>Art &amp; Design;Pretend Play</td>\n",
       "      <td>2018-01-15</td>\n",
       "      <td>2.0.0</td>\n",
       "      <td>4.0.3 and up</td>\n",
       "    </tr>\n",
       "    <tr>\n",
       "      <th>2</th>\n",
       "      <td>U Launcher Lite – FREE Live Cool Themes, Hide ...</td>\n",
       "      <td>ART_AND_DESIGN</td>\n",
       "      <td>4.7</td>\n",
       "      <td>87510.0</td>\n",
       "      <td>8.7M</td>\n",
       "      <td>5000000</td>\n",
       "      <td>Free</td>\n",
       "      <td>0</td>\n",
       "      <td>Everyone</td>\n",
       "      <td>Art &amp; Design</td>\n",
       "      <td>2018-08-01</td>\n",
       "      <td>1.2.4</td>\n",
       "      <td>4.0.3 and up</td>\n",
       "    </tr>\n",
       "    <tr>\n",
       "      <th>3</th>\n",
       "      <td>Sketch - Draw &amp; Paint</td>\n",
       "      <td>ART_AND_DESIGN</td>\n",
       "      <td>4.5</td>\n",
       "      <td>215644.0</td>\n",
       "      <td>25M</td>\n",
       "      <td>50000000</td>\n",
       "      <td>Free</td>\n",
       "      <td>0</td>\n",
       "      <td>Teen</td>\n",
       "      <td>Art &amp; Design</td>\n",
       "      <td>2018-06-08</td>\n",
       "      <td>Varies with device</td>\n",
       "      <td>4.2 and up</td>\n",
       "    </tr>\n",
       "    <tr>\n",
       "      <th>4</th>\n",
       "      <td>Pixel Draw - Number Art Coloring Book</td>\n",
       "      <td>ART_AND_DESIGN</td>\n",
       "      <td>4.3</td>\n",
       "      <td>967.0</td>\n",
       "      <td>2.8M</td>\n",
       "      <td>100000</td>\n",
       "      <td>Free</td>\n",
       "      <td>0</td>\n",
       "      <td>Everyone</td>\n",
       "      <td>Art &amp; Design;Creativity</td>\n",
       "      <td>2018-06-20</td>\n",
       "      <td>1.1</td>\n",
       "      <td>4.4 and up</td>\n",
       "    </tr>\n",
       "  </tbody>\n",
       "</table>\n",
       "</div>"
      ],
      "text/plain": [
       "                                                 App        Category  Rating  \\\n",
       "0     Photo Editor & Candy Camera & Grid & ScrapBook  ART_AND_DESIGN     4.1   \n",
       "1                                Coloring book moana  ART_AND_DESIGN     3.9   \n",
       "2  U Launcher Lite – FREE Live Cool Themes, Hide ...  ART_AND_DESIGN     4.7   \n",
       "3                              Sketch - Draw & Paint  ART_AND_DESIGN     4.5   \n",
       "4              Pixel Draw - Number Art Coloring Book  ART_AND_DESIGN     4.3   \n",
       "\n",
       "    Reviews  Size  Installs  Type Price ContentRating  \\\n",
       "0     159.0   19M     10000  Free     0      Everyone   \n",
       "1     967.0   14M    500000  Free     0      Everyone   \n",
       "2   87510.0  8.7M   5000000  Free     0      Everyone   \n",
       "3  215644.0   25M  50000000  Free     0          Teen   \n",
       "4     967.0  2.8M    100000  Free     0      Everyone   \n",
       "\n",
       "                      Genres LastUpdated          CurrentVer    AndroidVer  \n",
       "0               Art & Design  2018-01-07               1.0.0  4.0.3 and up  \n",
       "1  Art & Design;Pretend Play  2018-01-15               2.0.0  4.0.3 and up  \n",
       "2               Art & Design  2018-08-01               1.2.4  4.0.3 and up  \n",
       "3               Art & Design  2018-06-08  Varies with device    4.2 and up  \n",
       "4    Art & Design;Creativity  2018-06-20                 1.1    4.4 and up  "
      ]
     },
     "execution_count": 65,
     "metadata": {},
     "output_type": "execute_result"
    }
   ],
   "source": [
    "#Cleaning Installs Column removing , and + signs and then converting to text value\n",
    "apps.Installs=apps.Installs.str.replace('+','').str.replace(',','').astype(int)\n",
    "apps.head()"
   ]
  },
  {
   "cell_type": "code",
   "execution_count": 66,
   "metadata": {},
   "outputs": [
    {
     "data": {
      "text/plain": [
       "array(['0', '$4.99', '$3.99', '$6.99', '$7.99', '$5.99', '$2.99', '$3.49',\n",
       "       '$1.99', '$9.99', '$7.49', '$0.99', '$9.00', '$5.49', '$10.00',\n",
       "       '$24.99', '$11.99', '$79.99', '$16.99', '$14.99', '$29.99',\n",
       "       '$12.99', '$2.49', '$10.99', '$1.50', '$19.99', '$15.99', '$33.99',\n",
       "       '$39.99', '$3.95', '$4.49', '$1.70', '$8.99', '$1.49', '$3.88',\n",
       "       '$399.99', '$17.99', '$400.00', '$3.02', '$1.76', '$4.84', '$4.77',\n",
       "       '$1.61', '$2.50', '$1.59', '$6.49', '$1.29', '$299.99', '$379.99',\n",
       "       '$37.99', '$18.99', '$389.99', '$8.49', '$1.75', '$14.00', '$2.00',\n",
       "       '$3.08', '$2.59', '$19.40', '$3.90', '$4.59', '$15.46', '$3.04',\n",
       "       '$13.99', '$4.29', '$3.28', '$4.60', '$1.00', '$2.95', '$2.90',\n",
       "       '$1.97', '$2.56', '$1.20'], dtype=object)"
      ]
     },
     "execution_count": 66,
     "metadata": {},
     "output_type": "execute_result"
    }
   ],
   "source": [
    "apps.Price.unique()"
   ]
  },
  {
   "cell_type": "code",
   "execution_count": 67,
   "metadata": {
    "scrolled": true
   },
   "outputs": [
    {
     "data": {
      "text/plain": [
       "array([  0.  ,   4.99,   3.99,   6.99,   7.99,   5.99,   2.99,   3.49,\n",
       "         1.99,   9.99,   7.49,   0.99,   9.  ,   5.49,  10.  ,  24.99,\n",
       "        11.99,  79.99,  16.99,  14.99,  29.99,  12.99,   2.49,  10.99,\n",
       "         1.5 ,  19.99,  15.99,  33.99,  39.99,   3.95,   4.49,   1.7 ,\n",
       "         8.99,   1.49,   3.88, 399.99,  17.99, 400.  ,   3.02,   1.76,\n",
       "         4.84,   4.77,   1.61,   2.5 ,   1.59,   6.49,   1.29, 299.99,\n",
       "       379.99,  37.99,  18.99, 389.99,   8.49,   1.75,  14.  ,   2.  ,\n",
       "         3.08,   2.59,  19.4 ,   3.9 ,   4.59,  15.46,   3.04,  13.99,\n",
       "         4.29,   3.28,   4.6 ,   1.  ,   2.95,   2.9 ,   1.97,   2.56,\n",
       "         1.2 ])"
      ]
     },
     "execution_count": 67,
     "metadata": {},
     "output_type": "execute_result"
    }
   ],
   "source": [
    "#Cleaning Price Column\n",
    "apps.Price=apps.Price.str.replace('$','').astype(float)\n",
    "apps.Price.unique()"
   ]
  },
  {
   "cell_type": "code",
   "execution_count": 68,
   "metadata": {},
   "outputs": [],
   "source": [
    "#Cleaning Size Column\n",
    "M_rows=apps['Size'].str.contains('M')\n",
    "k_rows=apps['Size'].str.contains('k')\n",
    "v_rows=apps['Size'].str.contains('Varies with device')\n",
    "apps.loc[M_rows,'Size'] = apps.loc[M_rows,'Size'].str.replace('M','').astype(float)*1000000\n",
    "apps.loc[k_rows,'Size'] = apps.loc[k_rows,'Size'].str.replace('k','').astype(float)*1000\n",
    "apps.loc[v_rows,'Size'] = apps.loc[v_rows,'Size'].str.replace('Varies with device','0').astype(float)"
   ]
  },
  {
   "cell_type": "code",
   "execution_count": 69,
   "metadata": {},
   "outputs": [
    {
     "data": {
      "text/plain": [
       "array([19000000.0, 14000000.0, 8700000.0, 25000000.0, 2800000.0,\n",
       "       5600000.0, 29000000.0, 33000000.0, 3100000.0, 28000000.0,\n",
       "       12000000.0, 20000000.0, 21000000.0, 37000000.0, 5500000.0,\n",
       "       17000000.0, 39000000.0, 31000000.0, 4200000.0, 23000000.0,\n",
       "       6000000.0, 6100000.0, 4600000.0, 9200000.0, 5200000.0, 11000000.0,\n",
       "       24000000.0, 0.0, 9400000.0, 15000000.0, 10000000.0, 1200000.0,\n",
       "       26000000.0, 8000000.0, 7900000.0, 56000000.0, 57000000.0,\n",
       "       35000000.0, 54000000.0, 201000.0, 3600000.0, 5700000.0, 8600000.0,\n",
       "       2400000.0, 27000000.0, 2700000.0, 2500000.0, 7000000.0, 16000000.0,\n",
       "       3400000.0, 8900000.0, 3900000.0, 2900000.0, 38000000.0, 32000000.0,\n",
       "       5400000.0, 18000000.0, 1100000.0, 2200000.0, 4500000.0, 9800000.0,\n",
       "       52000000.0, 9000000.0, 6700000.0, 30000000.0, 2600000.0, 7100000.0,\n",
       "       22000000.0, 6400000.0, 3200000.0, 8199999.999999999, 4900000.0,\n",
       "       9500000.0, 5000000.0, 5900000.0, 13000000.0, 73000000.0, 6800000.0,\n",
       "       3500000.0, 4000000.0, 2300000.0, 2100000.0, 42000000.0, 9100000.0,\n",
       "       55000000.0, 23000.0, 7300000.0, 6500000.0, 1500000.0, 7500000.0,\n",
       "       51000000.0, 41000000.0, 48000000.0, 8500000.0, 46000000.0,\n",
       "       8300000.000000001, 4300000.0, 4700000.0, 3300000.0, 40000000.0,\n",
       "       7800000.0, 8800000.0, 6600000.0, 5100000.0, 61000000.0, 66000000.0,\n",
       "       79000.0, 8400000.0, 3700000.0, 118000.0, 44000000.0, 695000.0,\n",
       "       1600000.0, 6200000.0, 53000000.0, 1400000.0, 3000000.0, 7200000.0,\n",
       "       5800000.0, 3800000.0, 9600000.0, 45000000.0, 63000000.0,\n",
       "       49000000.0, 77000000.0, 4400000.0, 70000000.0, 9300000.0,\n",
       "       8100000.0, 36000000.0, 6900000.0, 7400000.0, 84000000.0,\n",
       "       97000000.0, 2000000.0, 1900000.0, 1800000.0, 5300000.0, 47000000.0,\n",
       "       556000.0, 526000.0, 76000000.0, 7600000.0, 59000000.0, 9700000.0,\n",
       "       78000000.0, 72000000.0, 43000000.0, 7700000.0, 6300000.0, 334000.0,\n",
       "       93000000.0, 65000000.0, 79000000.0, 100000000.0, 58000000.0,\n",
       "       50000000.0, 68000000.0, 64000000.0, 34000000.0, 67000000.0,\n",
       "       60000000.0, 94000000.0, 9900000.0, 232000.0, 99000000.0, 624000.0,\n",
       "       95000000.0, 8500.0, 41000.0, 292000.0, 80000000.0, 1700000.0,\n",
       "       74000000.0, 62000000.0, 69000000.0, 75000000.0, 98000000.0,\n",
       "       85000000.0, 82000000.0, 96000000.0, 87000000.0, 71000000.0,\n",
       "       86000000.0, 91000000.0, 81000000.0, 92000000.0, 83000000.0,\n",
       "       88000000.0, 704000.0, 862000.0, 899000.0, 378000.0, 4800000.0,\n",
       "       266000.0, 375000.0, 1300000.0, 975000.0, 980000.0,\n",
       "       4099999.9999999995, 89000000.0, 696000.0, 544000.0, 525000.0,\n",
       "       920000.0, 779000.0, 853000.0, 720000.0, 713000.0, 772000.0,\n",
       "       318000.0, 58000.0, 241000.0, 196000.0, 857000.0, 51000.0, 953000.0,\n",
       "       865000.0, 251000.0, 930000.0, 540000.0, 313000.0, 746000.0,\n",
       "       203000.0, 26000.0, 314000.0, 239000.0, 371000.0, 220000.0,\n",
       "       730000.0, 756000.0, 91000.0, 293000.0, 17000.0, 74000.0, 14000.0,\n",
       "       317000.0, 78000.0, 924000.0, 818000.0, 81000.0, 939000.0, 169000.0,\n",
       "       45000.0, 965000.0, 90000000.0, 545000.0, 61000.0, 283000.0,\n",
       "       655000.0, 714000.0, 93000.0, 872000.0, 121000.0, 322000.0,\n",
       "       976000.0, 206000.0, 954000.0, 444000.0, 717000.0, 210000.0,\n",
       "       609000.0, 308000.0, 306000.0, 175000.0, 350000.0, 383000.0,\n",
       "       454000.0, 1000000.0, 70000.0, 812000.0, 442000.0, 842000.0,\n",
       "       417000.0, 412000.0, 459000.0, 478000.0, 335000.0, 782000.0,\n",
       "       721000.0, 430000.0, 429000.0, 192000.0, 460000.0, 728000.0,\n",
       "       496000.0, 816000.0, 414000.0, 506000.0, 887000.0, 613000.0,\n",
       "       778000.0, 683000.0, 592000.0, 186000.0, 840000.0, 647000.0,\n",
       "       373000.0, 437000.0, 598000.0, 716000.0, 585000.0, 982000.0,\n",
       "       219000.0, 55000.0, 323000.0, 691000.0, 511000.0, 951000.0,\n",
       "       963000.0, 25000.0, 554000.0, 351000.0, 27000.0, 82000.0, 208000.0,\n",
       "       551000.0, 29000.0, 103000.0, 116000.0, 153000.0, 209000.0,\n",
       "       499000.0, 173000.0, 597000.0, 809000.0, 122000.0, 411000.0,\n",
       "       400000.0, 801000.0, 787000.0, 50000.0, 643000.0, 986000.0,\n",
       "       516000.0, 837000.0, 780000.0, 20000.0, 498000.0, 600000.0,\n",
       "       656000.0, 221000.0, 228000.0, 176000.0, 34000.0, 259000.0,\n",
       "       164000.0, 458000.0, 629000.0, 28000.0, 288000.0, 775000.0,\n",
       "       785000.0, 636000.0, 916000.0, 994000.0, 309000.0, 485000.0,\n",
       "       914000.0, 903000.0, 608000.0, 500000.0, 54000.0, 562000.0,\n",
       "       847000.0, 948000.0, 811000.0, 270000.0, 48000.0, 523000.0,\n",
       "       784000.0, 280000.0, 24000.0, 892000.0, 154000.0, 18000.0, 33000.0,\n",
       "       860000.0, 364000.0, 387000.0, 626000.0, 161000.0, 879000.0,\n",
       "       39000.0, 170000.0, 141000.0, 160000.0, 144000.0, 143000.0,\n",
       "       190000.0, 376000.0, 193000.0, 473000.0, 246000.0, 73000.0,\n",
       "       253000.0, 957000.0, 420000.0, 72000.0, 404000.0, 470000.0,\n",
       "       226000.0, 240000.0, 89000.0, 234000.0, 257000.0, 861000.0,\n",
       "       467000.0, 676000.0, 552000.0, 582000.0, 619000.0], dtype=object)"
      ]
     },
     "execution_count": 69,
     "metadata": {},
     "output_type": "execute_result"
    }
   ],
   "source": [
    "apps.Size.unique()"
   ]
  },
  {
   "cell_type": "code",
   "execution_count": 70,
   "metadata": {},
   "outputs": [
    {
     "data": {
      "text/html": [
       "<div>\n",
       "<style scoped>\n",
       "    .dataframe tbody tr th:only-of-type {\n",
       "        vertical-align: middle;\n",
       "    }\n",
       "\n",
       "    .dataframe tbody tr th {\n",
       "        vertical-align: top;\n",
       "    }\n",
       "\n",
       "    .dataframe thead th {\n",
       "        text-align: right;\n",
       "    }\n",
       "</style>\n",
       "<table border=\"1\" class=\"dataframe\">\n",
       "  <thead>\n",
       "    <tr style=\"text-align: right;\">\n",
       "      <th></th>\n",
       "      <th>App</th>\n",
       "      <th>Category</th>\n",
       "      <th>Rating</th>\n",
       "      <th>Reviews</th>\n",
       "      <th>Size</th>\n",
       "      <th>Installs</th>\n",
       "      <th>Type</th>\n",
       "      <th>Price</th>\n",
       "      <th>ContentRating</th>\n",
       "      <th>Genres</th>\n",
       "      <th>LastUpdated</th>\n",
       "      <th>CurrentVer</th>\n",
       "      <th>AndroidVer</th>\n",
       "    </tr>\n",
       "  </thead>\n",
       "  <tbody>\n",
       "    <tr>\n",
       "      <th>1407</th>\n",
       "      <td>10 Best Foods for You</td>\n",
       "      <td>HEALTH_AND_FITNESS</td>\n",
       "      <td>4.0</td>\n",
       "      <td>2490.0</td>\n",
       "      <td>3.8e+06</td>\n",
       "      <td>500000</td>\n",
       "      <td>Free</td>\n",
       "      <td>0.00</td>\n",
       "      <td>Everyone 10+</td>\n",
       "      <td>Health &amp; Fitness</td>\n",
       "      <td>2017-02-17</td>\n",
       "      <td>1.9</td>\n",
       "      <td>2.3.3 and up</td>\n",
       "    </tr>\n",
       "    <tr>\n",
       "      <th>1393</th>\n",
       "      <td>10 Best Foods for You</td>\n",
       "      <td>HEALTH_AND_FITNESS</td>\n",
       "      <td>4.0</td>\n",
       "      <td>2490.0</td>\n",
       "      <td>3.8e+06</td>\n",
       "      <td>500000</td>\n",
       "      <td>Free</td>\n",
       "      <td>0.00</td>\n",
       "      <td>Everyone 10+</td>\n",
       "      <td>Health &amp; Fitness</td>\n",
       "      <td>2017-02-17</td>\n",
       "      <td>1.9</td>\n",
       "      <td>2.3.3 and up</td>\n",
       "    </tr>\n",
       "    <tr>\n",
       "      <th>2543</th>\n",
       "      <td>1800 Contacts - Lens Store</td>\n",
       "      <td>MEDICAL</td>\n",
       "      <td>4.7</td>\n",
       "      <td>23160.0</td>\n",
       "      <td>2.6e+07</td>\n",
       "      <td>1000000</td>\n",
       "      <td>Free</td>\n",
       "      <td>0.00</td>\n",
       "      <td>Everyone</td>\n",
       "      <td>Medical</td>\n",
       "      <td>2018-07-27</td>\n",
       "      <td>7.4.1</td>\n",
       "      <td>5.0 and up</td>\n",
       "    </tr>\n",
       "    <tr>\n",
       "      <th>2322</th>\n",
       "      <td>1800 Contacts - Lens Store</td>\n",
       "      <td>MEDICAL</td>\n",
       "      <td>4.7</td>\n",
       "      <td>23160.0</td>\n",
       "      <td>2.6e+07</td>\n",
       "      <td>1000000</td>\n",
       "      <td>Free</td>\n",
       "      <td>0.00</td>\n",
       "      <td>Everyone</td>\n",
       "      <td>Medical</td>\n",
       "      <td>2018-07-27</td>\n",
       "      <td>7.4.1</td>\n",
       "      <td>5.0 and up</td>\n",
       "    </tr>\n",
       "    <tr>\n",
       "      <th>2256</th>\n",
       "      <td>2017 EMRA Antibiotic Guide</td>\n",
       "      <td>MEDICAL</td>\n",
       "      <td>4.4</td>\n",
       "      <td>12.0</td>\n",
       "      <td>3.8e+06</td>\n",
       "      <td>1000</td>\n",
       "      <td>Paid</td>\n",
       "      <td>16.99</td>\n",
       "      <td>Everyone</td>\n",
       "      <td>Medical</td>\n",
       "      <td>2017-01-27</td>\n",
       "      <td>1.0.5</td>\n",
       "      <td>4.0.3 and up</td>\n",
       "    </tr>\n",
       "    <tr>\n",
       "      <th>2385</th>\n",
       "      <td>2017 EMRA Antibiotic Guide</td>\n",
       "      <td>MEDICAL</td>\n",
       "      <td>4.4</td>\n",
       "      <td>12.0</td>\n",
       "      <td>3.8e+06</td>\n",
       "      <td>1000</td>\n",
       "      <td>Paid</td>\n",
       "      <td>16.99</td>\n",
       "      <td>Everyone</td>\n",
       "      <td>Medical</td>\n",
       "      <td>2017-01-27</td>\n",
       "      <td>1.0.5</td>\n",
       "      <td>4.0.3 and up</td>\n",
       "    </tr>\n",
       "    <tr>\n",
       "      <th>1337</th>\n",
       "      <td>21-Day Meditation Experience</td>\n",
       "      <td>HEALTH_AND_FITNESS</td>\n",
       "      <td>4.4</td>\n",
       "      <td>11506.0</td>\n",
       "      <td>1.5e+07</td>\n",
       "      <td>100000</td>\n",
       "      <td>Free</td>\n",
       "      <td>0.00</td>\n",
       "      <td>Everyone</td>\n",
       "      <td>Health &amp; Fitness</td>\n",
       "      <td>2018-08-02</td>\n",
       "      <td>3.0.0</td>\n",
       "      <td>4.1 and up</td>\n",
       "    </tr>\n",
       "    <tr>\n",
       "      <th>1434</th>\n",
       "      <td>21-Day Meditation Experience</td>\n",
       "      <td>HEALTH_AND_FITNESS</td>\n",
       "      <td>4.4</td>\n",
       "      <td>11506.0</td>\n",
       "      <td>1.5e+07</td>\n",
       "      <td>100000</td>\n",
       "      <td>Free</td>\n",
       "      <td>0.00</td>\n",
       "      <td>Everyone</td>\n",
       "      <td>Health &amp; Fitness</td>\n",
       "      <td>2018-08-02</td>\n",
       "      <td>3.0.0</td>\n",
       "      <td>4.1 and up</td>\n",
       "    </tr>\n",
       "    <tr>\n",
       "      <th>2522</th>\n",
       "      <td>420 BZ Budeze Delivery</td>\n",
       "      <td>MEDICAL</td>\n",
       "      <td>5.0</td>\n",
       "      <td>2.0</td>\n",
       "      <td>1.1e+07</td>\n",
       "      <td>100</td>\n",
       "      <td>Free</td>\n",
       "      <td>0.00</td>\n",
       "      <td>Mature 17+</td>\n",
       "      <td>Medical</td>\n",
       "      <td>2018-06-06</td>\n",
       "      <td>1.0.1</td>\n",
       "      <td>4.1 and up</td>\n",
       "    </tr>\n",
       "    <tr>\n",
       "      <th>7035</th>\n",
       "      <td>420 BZ Budeze Delivery</td>\n",
       "      <td>MEDICAL</td>\n",
       "      <td>5.0</td>\n",
       "      <td>2.0</td>\n",
       "      <td>1.1e+07</td>\n",
       "      <td>100</td>\n",
       "      <td>Free</td>\n",
       "      <td>0.00</td>\n",
       "      <td>Mature 17+</td>\n",
       "      <td>Medical</td>\n",
       "      <td>2018-06-06</td>\n",
       "      <td>1.0.1</td>\n",
       "      <td>4.1 and up</td>\n",
       "    </tr>\n",
       "    <tr>\n",
       "      <th>1296</th>\n",
       "      <td>8fit Workouts &amp; Meal Planner</td>\n",
       "      <td>HEALTH_AND_FITNESS</td>\n",
       "      <td>4.6</td>\n",
       "      <td>115721.0</td>\n",
       "      <td>6.7e+07</td>\n",
       "      <td>10000000</td>\n",
       "      <td>Free</td>\n",
       "      <td>0.00</td>\n",
       "      <td>Everyone</td>\n",
       "      <td>Health &amp; Fitness</td>\n",
       "      <td>2018-07-11</td>\n",
       "      <td>3.5.0</td>\n",
       "      <td>5.0 and up</td>\n",
       "    </tr>\n",
       "    <tr>\n",
       "      <th>1324</th>\n",
       "      <td>8fit Workouts &amp; Meal Planner</td>\n",
       "      <td>HEALTH_AND_FITNESS</td>\n",
       "      <td>4.6</td>\n",
       "      <td>115721.0</td>\n",
       "      <td>6.7e+07</td>\n",
       "      <td>10000000</td>\n",
       "      <td>Free</td>\n",
       "      <td>0.00</td>\n",
       "      <td>Everyone</td>\n",
       "      <td>Health &amp; Fitness</td>\n",
       "      <td>2018-07-11</td>\n",
       "      <td>3.5.0</td>\n",
       "      <td>5.0 and up</td>\n",
       "    </tr>\n",
       "    <tr>\n",
       "      <th>2301</th>\n",
       "      <td>A Manual of Acupuncture</td>\n",
       "      <td>MEDICAL</td>\n",
       "      <td>3.5</td>\n",
       "      <td>214.0</td>\n",
       "      <td>6.8e+07</td>\n",
       "      <td>1000</td>\n",
       "      <td>Paid</td>\n",
       "      <td>33.99</td>\n",
       "      <td>Everyone</td>\n",
       "      <td>Medical</td>\n",
       "      <td>2017-10-02</td>\n",
       "      <td>2.1.35</td>\n",
       "      <td>4.0 and up</td>\n",
       "    </tr>\n",
       "    <tr>\n",
       "      <th>2402</th>\n",
       "      <td>A Manual of Acupuncture</td>\n",
       "      <td>MEDICAL</td>\n",
       "      <td>3.5</td>\n",
       "      <td>214.0</td>\n",
       "      <td>6.8e+07</td>\n",
       "      <td>1000</td>\n",
       "      <td>Paid</td>\n",
       "      <td>33.99</td>\n",
       "      <td>Everyone</td>\n",
       "      <td>Medical</td>\n",
       "      <td>2017-10-02</td>\n",
       "      <td>2.1.35</td>\n",
       "      <td>4.0 and up</td>\n",
       "    </tr>\n",
       "    <tr>\n",
       "      <th>920</th>\n",
       "      <td>A&amp;E - Watch Full Episodes of TV Shows</td>\n",
       "      <td>ENTERTAINMENT</td>\n",
       "      <td>4.0</td>\n",
       "      <td>29706.0</td>\n",
       "      <td>1.9e+07</td>\n",
       "      <td>1000000</td>\n",
       "      <td>Free</td>\n",
       "      <td>0.00</td>\n",
       "      <td>Teen</td>\n",
       "      <td>Entertainment</td>\n",
       "      <td>2018-07-16</td>\n",
       "      <td>3.1.4</td>\n",
       "      <td>4.4 and up</td>\n",
       "    </tr>\n",
       "    <tr>\n",
       "      <th>977</th>\n",
       "      <td>A&amp;E - Watch Full Episodes of TV Shows</td>\n",
       "      <td>ENTERTAINMENT</td>\n",
       "      <td>4.0</td>\n",
       "      <td>29706.0</td>\n",
       "      <td>1.9e+07</td>\n",
       "      <td>1000000</td>\n",
       "      <td>Free</td>\n",
       "      <td>0.00</td>\n",
       "      <td>Teen</td>\n",
       "      <td>Entertainment</td>\n",
       "      <td>2018-07-16</td>\n",
       "      <td>3.1.4</td>\n",
       "      <td>4.4 and up</td>\n",
       "    </tr>\n",
       "    <tr>\n",
       "      <th>946</th>\n",
       "      <td>A&amp;E - Watch Full Episodes of TV Shows</td>\n",
       "      <td>ENTERTAINMENT</td>\n",
       "      <td>4.0</td>\n",
       "      <td>29706.0</td>\n",
       "      <td>1.9e+07</td>\n",
       "      <td>1000000</td>\n",
       "      <td>Free</td>\n",
       "      <td>0.00</td>\n",
       "      <td>Teen</td>\n",
       "      <td>Entertainment</td>\n",
       "      <td>2018-07-16</td>\n",
       "      <td>3.1.4</td>\n",
       "      <td>4.4 and up</td>\n",
       "    </tr>\n",
       "    <tr>\n",
       "      <th>2515</th>\n",
       "      <td>AAFP</td>\n",
       "      <td>MEDICAL</td>\n",
       "      <td>3.8</td>\n",
       "      <td>63.0</td>\n",
       "      <td>2.4e+07</td>\n",
       "      <td>10000</td>\n",
       "      <td>Free</td>\n",
       "      <td>0.00</td>\n",
       "      <td>Everyone</td>\n",
       "      <td>Medical</td>\n",
       "      <td>2018-06-22</td>\n",
       "      <td>2.3.1</td>\n",
       "      <td>5.0 and up</td>\n",
       "    </tr>\n",
       "    <tr>\n",
       "      <th>10768</th>\n",
       "      <td>AAFP</td>\n",
       "      <td>MEDICAL</td>\n",
       "      <td>3.8</td>\n",
       "      <td>63.0</td>\n",
       "      <td>2.4e+07</td>\n",
       "      <td>10000</td>\n",
       "      <td>Free</td>\n",
       "      <td>0.00</td>\n",
       "      <td>Everyone</td>\n",
       "      <td>Medical</td>\n",
       "      <td>2018-06-22</td>\n",
       "      <td>2.3.1</td>\n",
       "      <td>5.0 and up</td>\n",
       "    </tr>\n",
       "    <tr>\n",
       "      <th>3806</th>\n",
       "      <td>ABC News - US &amp; World News</td>\n",
       "      <td>NEWS_AND_MAGAZINES</td>\n",
       "      <td>4.0</td>\n",
       "      <td>18976.0</td>\n",
       "      <td>3.5e+07</td>\n",
       "      <td>1000000</td>\n",
       "      <td>Free</td>\n",
       "      <td>0.00</td>\n",
       "      <td>Everyone 10+</td>\n",
       "      <td>News &amp; Magazines</td>\n",
       "      <td>2018-06-06</td>\n",
       "      <td>3.19.11</td>\n",
       "      <td>5.0 and up</td>\n",
       "    </tr>\n",
       "    <tr>\n",
       "      <th>3787</th>\n",
       "      <td>ABC News - US &amp; World News</td>\n",
       "      <td>NEWS_AND_MAGAZINES</td>\n",
       "      <td>4.0</td>\n",
       "      <td>18976.0</td>\n",
       "      <td>3.5e+07</td>\n",
       "      <td>1000000</td>\n",
       "      <td>Free</td>\n",
       "      <td>0.00</td>\n",
       "      <td>Everyone 10+</td>\n",
       "      <td>News &amp; Magazines</td>\n",
       "      <td>2018-06-06</td>\n",
       "      <td>3.19.11</td>\n",
       "      <td>5.0 and up</td>\n",
       "    </tr>\n",
       "    <tr>\n",
       "      <th>2378</th>\n",
       "      <td>ASCCP Mobile</td>\n",
       "      <td>MEDICAL</td>\n",
       "      <td>4.5</td>\n",
       "      <td>63.0</td>\n",
       "      <td>2.5e+07</td>\n",
       "      <td>10000</td>\n",
       "      <td>Paid</td>\n",
       "      <td>9.99</td>\n",
       "      <td>Everyone</td>\n",
       "      <td>Medical</td>\n",
       "      <td>2016-10-03</td>\n",
       "      <td>2.1.1</td>\n",
       "      <td>2.2 and up</td>\n",
       "    </tr>\n",
       "    <tr>\n",
       "      <th>2246</th>\n",
       "      <td>ASCCP Mobile</td>\n",
       "      <td>MEDICAL</td>\n",
       "      <td>4.5</td>\n",
       "      <td>63.0</td>\n",
       "      <td>2.5e+07</td>\n",
       "      <td>10000</td>\n",
       "      <td>Paid</td>\n",
       "      <td>9.99</td>\n",
       "      <td>Everyone</td>\n",
       "      <td>Medical</td>\n",
       "      <td>2016-10-03</td>\n",
       "      <td>2.1.1</td>\n",
       "      <td>2.2 and up</td>\n",
       "    </tr>\n",
       "    <tr>\n",
       "      <th>280</th>\n",
       "      <td>Accounting App - Zoho Books</td>\n",
       "      <td>BUSINESS</td>\n",
       "      <td>4.5</td>\n",
       "      <td>3079.0</td>\n",
       "      <td>8.5e+06</td>\n",
       "      <td>100000</td>\n",
       "      <td>Free</td>\n",
       "      <td>0.00</td>\n",
       "      <td>Everyone</td>\n",
       "      <td>Business</td>\n",
       "      <td>2018-08-02</td>\n",
       "      <td>5.20.7</td>\n",
       "      <td>4.1 and up</td>\n",
       "    </tr>\n",
       "    <tr>\n",
       "      <th>251</th>\n",
       "      <td>Accounting App - Zoho Books</td>\n",
       "      <td>BUSINESS</td>\n",
       "      <td>4.5</td>\n",
       "      <td>3079.0</td>\n",
       "      <td>8.5e+06</td>\n",
       "      <td>100000</td>\n",
       "      <td>Free</td>\n",
       "      <td>0.00</td>\n",
       "      <td>Everyone</td>\n",
       "      <td>Business</td>\n",
       "      <td>2018-08-02</td>\n",
       "      <td>5.20.7</td>\n",
       "      <td>4.1 and up</td>\n",
       "    </tr>\n",
       "    <tr>\n",
       "      <th>250</th>\n",
       "      <td>AdWords Express</td>\n",
       "      <td>BUSINESS</td>\n",
       "      <td>4.1</td>\n",
       "      <td>7149.0</td>\n",
       "      <td>1.1e+07</td>\n",
       "      <td>1000000</td>\n",
       "      <td>Free</td>\n",
       "      <td>0.00</td>\n",
       "      <td>Everyone</td>\n",
       "      <td>Business</td>\n",
       "      <td>2018-07-31</td>\n",
       "      <td>2.6.158</td>\n",
       "      <td>4.0 and up</td>\n",
       "    </tr>\n",
       "    <tr>\n",
       "      <th>279</th>\n",
       "      <td>AdWords Express</td>\n",
       "      <td>BUSINESS</td>\n",
       "      <td>4.1</td>\n",
       "      <td>7149.0</td>\n",
       "      <td>1.1e+07</td>\n",
       "      <td>1000000</td>\n",
       "      <td>Free</td>\n",
       "      <td>0.00</td>\n",
       "      <td>Everyone</td>\n",
       "      <td>Business</td>\n",
       "      <td>2018-07-31</td>\n",
       "      <td>2.6.158</td>\n",
       "      <td>4.0 and up</td>\n",
       "    </tr>\n",
       "    <tr>\n",
       "      <th>2488</th>\n",
       "      <td>Ada - Your Health Guide</td>\n",
       "      <td>MEDICAL</td>\n",
       "      <td>4.7</td>\n",
       "      <td>87418.0</td>\n",
       "      <td>1.4e+07</td>\n",
       "      <td>1000000</td>\n",
       "      <td>Free</td>\n",
       "      <td>0.00</td>\n",
       "      <td>Everyone</td>\n",
       "      <td>Medical</td>\n",
       "      <td>2018-07-16</td>\n",
       "      <td>2.25.0</td>\n",
       "      <td>4.4 and up</td>\n",
       "    </tr>\n",
       "    <tr>\n",
       "      <th>2330</th>\n",
       "      <td>Ada - Your Health Guide</td>\n",
       "      <td>MEDICAL</td>\n",
       "      <td>4.7</td>\n",
       "      <td>87418.0</td>\n",
       "      <td>1.4e+07</td>\n",
       "      <td>1000000</td>\n",
       "      <td>Free</td>\n",
       "      <td>0.00</td>\n",
       "      <td>Everyone</td>\n",
       "      <td>Medical</td>\n",
       "      <td>2018-07-16</td>\n",
       "      <td>2.25.0</td>\n",
       "      <td>4.4 and up</td>\n",
       "    </tr>\n",
       "    <tr>\n",
       "      <th>588</th>\n",
       "      <td>Adult Dirty Emojis</td>\n",
       "      <td>DATING</td>\n",
       "      <td>2.8</td>\n",
       "      <td>80.0</td>\n",
       "      <td>5.5e+06</td>\n",
       "      <td>10000</td>\n",
       "      <td>Free</td>\n",
       "      <td>0.00</td>\n",
       "      <td>Teen</td>\n",
       "      <td>Dating</td>\n",
       "      <td>2017-11-06</td>\n",
       "      <td>1.0</td>\n",
       "      <td>4.0.3 and up</td>\n",
       "    </tr>\n",
       "    <tr>\n",
       "      <th>...</th>\n",
       "      <td>...</td>\n",
       "      <td>...</td>\n",
       "      <td>...</td>\n",
       "      <td>...</td>\n",
       "      <td>...</td>\n",
       "      <td>...</td>\n",
       "      <td>...</td>\n",
       "      <td>...</td>\n",
       "      <td>...</td>\n",
       "      <td>...</td>\n",
       "      <td>...</td>\n",
       "      <td>...</td>\n",
       "      <td>...</td>\n",
       "    </tr>\n",
       "    <tr>\n",
       "      <th>2329</th>\n",
       "      <td>fred's Pharmacy</td>\n",
       "      <td>MEDICAL</td>\n",
       "      <td>3.0</td>\n",
       "      <td>315.0</td>\n",
       "      <td>2.2e+07</td>\n",
       "      <td>100000</td>\n",
       "      <td>Free</td>\n",
       "      <td>0.00</td>\n",
       "      <td>Everyone</td>\n",
       "      <td>Medical</td>\n",
       "      <td>2017-10-10</td>\n",
       "      <td>1.0.02</td>\n",
       "      <td>4.0 and up</td>\n",
       "    </tr>\n",
       "    <tr>\n",
       "      <th>389</th>\n",
       "      <td>free video calls and chat</td>\n",
       "      <td>COMMUNICATION</td>\n",
       "      <td>4.2</td>\n",
       "      <td>594728.0</td>\n",
       "      <td>0</td>\n",
       "      <td>50000000</td>\n",
       "      <td>Free</td>\n",
       "      <td>0.00</td>\n",
       "      <td>Everyone</td>\n",
       "      <td>Communication</td>\n",
       "      <td>2018-07-19</td>\n",
       "      <td>7.3(800241)</td>\n",
       "      <td>4.4 and up</td>\n",
       "    </tr>\n",
       "    <tr>\n",
       "      <th>466</th>\n",
       "      <td>free video calls and chat</td>\n",
       "      <td>COMMUNICATION</td>\n",
       "      <td>4.2</td>\n",
       "      <td>594728.0</td>\n",
       "      <td>0</td>\n",
       "      <td>50000000</td>\n",
       "      <td>Free</td>\n",
       "      <td>0.00</td>\n",
       "      <td>Everyone</td>\n",
       "      <td>Communication</td>\n",
       "      <td>2018-07-19</td>\n",
       "      <td>7.3(800241)</td>\n",
       "      <td>4.4 and up</td>\n",
       "    </tr>\n",
       "    <tr>\n",
       "      <th>2244</th>\n",
       "      <td>iBP Blood Pressure</td>\n",
       "      <td>MEDICAL</td>\n",
       "      <td>4.4</td>\n",
       "      <td>578.0</td>\n",
       "      <td>704000</td>\n",
       "      <td>10000</td>\n",
       "      <td>Paid</td>\n",
       "      <td>0.99</td>\n",
       "      <td>Everyone</td>\n",
       "      <td>Medical</td>\n",
       "      <td>2014-11-30</td>\n",
       "      <td>7.0.1</td>\n",
       "      <td>2.2 and up</td>\n",
       "    </tr>\n",
       "    <tr>\n",
       "      <th>6584</th>\n",
       "      <td>iBP Blood Pressure</td>\n",
       "      <td>MEDICAL</td>\n",
       "      <td>4.4</td>\n",
       "      <td>578.0</td>\n",
       "      <td>704000</td>\n",
       "      <td>10000</td>\n",
       "      <td>Paid</td>\n",
       "      <td>0.99</td>\n",
       "      <td>Everyone</td>\n",
       "      <td>Medical</td>\n",
       "      <td>2014-11-30</td>\n",
       "      <td>7.0.1</td>\n",
       "      <td>2.2 and up</td>\n",
       "    </tr>\n",
       "    <tr>\n",
       "      <th>600</th>\n",
       "      <td>iPair-Meet, Chat, Dating</td>\n",
       "      <td>DATING</td>\n",
       "      <td>4.5</td>\n",
       "      <td>182986.0</td>\n",
       "      <td>7.7e+07</td>\n",
       "      <td>5000000</td>\n",
       "      <td>Free</td>\n",
       "      <td>0.00</td>\n",
       "      <td>Mature 17+</td>\n",
       "      <td>Dating</td>\n",
       "      <td>2018-08-02</td>\n",
       "      <td>5.0.8</td>\n",
       "      <td>4.1 and up</td>\n",
       "    </tr>\n",
       "    <tr>\n",
       "      <th>695</th>\n",
       "      <td>iPair-Meet, Chat, Dating</td>\n",
       "      <td>DATING</td>\n",
       "      <td>4.5</td>\n",
       "      <td>182986.0</td>\n",
       "      <td>7.7e+07</td>\n",
       "      <td>5000000</td>\n",
       "      <td>Free</td>\n",
       "      <td>0.00</td>\n",
       "      <td>Mature 17+</td>\n",
       "      <td>Dating</td>\n",
       "      <td>2018-08-02</td>\n",
       "      <td>5.0.8</td>\n",
       "      <td>4.1 and up</td>\n",
       "    </tr>\n",
       "    <tr>\n",
       "      <th>346</th>\n",
       "      <td>imo beta free calls and text</td>\n",
       "      <td>COMMUNICATION</td>\n",
       "      <td>4.3</td>\n",
       "      <td>659395.0</td>\n",
       "      <td>1.1e+07</td>\n",
       "      <td>100000000</td>\n",
       "      <td>Free</td>\n",
       "      <td>0.00</td>\n",
       "      <td>Everyone</td>\n",
       "      <td>Communication</td>\n",
       "      <td>2018-06-07</td>\n",
       "      <td>9.8.000000010492</td>\n",
       "      <td>4.0 and up</td>\n",
       "    </tr>\n",
       "    <tr>\n",
       "      <th>4123</th>\n",
       "      <td>imo beta free calls and text</td>\n",
       "      <td>COMMUNICATION</td>\n",
       "      <td>4.3</td>\n",
       "      <td>659395.0</td>\n",
       "      <td>1.1e+07</td>\n",
       "      <td>100000000</td>\n",
       "      <td>Free</td>\n",
       "      <td>0.00</td>\n",
       "      <td>Everyone</td>\n",
       "      <td>Communication</td>\n",
       "      <td>2018-06-07</td>\n",
       "      <td>9.8.000000010492</td>\n",
       "      <td>4.0 and up</td>\n",
       "    </tr>\n",
       "    <tr>\n",
       "      <th>465</th>\n",
       "      <td>imo free video calls and chat</td>\n",
       "      <td>COMMUNICATION</td>\n",
       "      <td>4.3</td>\n",
       "      <td>4785988.0</td>\n",
       "      <td>1.1e+07</td>\n",
       "      <td>500000000</td>\n",
       "      <td>Free</td>\n",
       "      <td>0.00</td>\n",
       "      <td>Everyone</td>\n",
       "      <td>Communication</td>\n",
       "      <td>2018-06-08</td>\n",
       "      <td>9.8.000000010501</td>\n",
       "      <td>4.0 and up</td>\n",
       "    </tr>\n",
       "    <tr>\n",
       "      <th>4222</th>\n",
       "      <td>imo free video calls and chat</td>\n",
       "      <td>COMMUNICATION</td>\n",
       "      <td>4.3</td>\n",
       "      <td>4785892.0</td>\n",
       "      <td>1.1e+07</td>\n",
       "      <td>500000000</td>\n",
       "      <td>Free</td>\n",
       "      <td>0.00</td>\n",
       "      <td>Everyone</td>\n",
       "      <td>Communication</td>\n",
       "      <td>2018-06-08</td>\n",
       "      <td>9.8.000000010501</td>\n",
       "      <td>4.0 and up</td>\n",
       "    </tr>\n",
       "    <tr>\n",
       "      <th>383</th>\n",
       "      <td>imo free video calls and chat</td>\n",
       "      <td>COMMUNICATION</td>\n",
       "      <td>4.3</td>\n",
       "      <td>4785988.0</td>\n",
       "      <td>1.1e+07</td>\n",
       "      <td>500000000</td>\n",
       "      <td>Free</td>\n",
       "      <td>0.00</td>\n",
       "      <td>Everyone</td>\n",
       "      <td>Communication</td>\n",
       "      <td>2018-06-08</td>\n",
       "      <td>9.8.000000010501</td>\n",
       "      <td>4.0 and up</td>\n",
       "    </tr>\n",
       "    <tr>\n",
       "      <th>347</th>\n",
       "      <td>imo free video calls and chat</td>\n",
       "      <td>COMMUNICATION</td>\n",
       "      <td>4.3</td>\n",
       "      <td>4785892.0</td>\n",
       "      <td>1.1e+07</td>\n",
       "      <td>500000000</td>\n",
       "      <td>Free</td>\n",
       "      <td>0.00</td>\n",
       "      <td>Everyone</td>\n",
       "      <td>Communication</td>\n",
       "      <td>2018-06-08</td>\n",
       "      <td>9.8.000000010501</td>\n",
       "      <td>4.0 and up</td>\n",
       "    </tr>\n",
       "    <tr>\n",
       "      <th>261</th>\n",
       "      <td>join.me - Simple Meetings</td>\n",
       "      <td>BUSINESS</td>\n",
       "      <td>4.0</td>\n",
       "      <td>6989.0</td>\n",
       "      <td>0</td>\n",
       "      <td>1000000</td>\n",
       "      <td>Free</td>\n",
       "      <td>0.00</td>\n",
       "      <td>Everyone</td>\n",
       "      <td>Business</td>\n",
       "      <td>2018-07-16</td>\n",
       "      <td>4.3.0.508</td>\n",
       "      <td>4.4 and up</td>\n",
       "    </tr>\n",
       "    <tr>\n",
       "      <th>253</th>\n",
       "      <td>join.me - Simple Meetings</td>\n",
       "      <td>BUSINESS</td>\n",
       "      <td>4.0</td>\n",
       "      <td>6989.0</td>\n",
       "      <td>0</td>\n",
       "      <td>1000000</td>\n",
       "      <td>Free</td>\n",
       "      <td>0.00</td>\n",
       "      <td>Everyone</td>\n",
       "      <td>Business</td>\n",
       "      <td>2018-07-16</td>\n",
       "      <td>4.3.0.508</td>\n",
       "      <td>4.4 and up</td>\n",
       "    </tr>\n",
       "    <tr>\n",
       "      <th>282</th>\n",
       "      <td>join.me - Simple Meetings</td>\n",
       "      <td>BUSINESS</td>\n",
       "      <td>4.0</td>\n",
       "      <td>6989.0</td>\n",
       "      <td>0</td>\n",
       "      <td>1000000</td>\n",
       "      <td>Free</td>\n",
       "      <td>0.00</td>\n",
       "      <td>Everyone</td>\n",
       "      <td>Business</td>\n",
       "      <td>2018-07-16</td>\n",
       "      <td>4.3.0.508</td>\n",
       "      <td>4.4 and up</td>\n",
       "    </tr>\n",
       "    <tr>\n",
       "      <th>525</th>\n",
       "      <td>muzmatch: Muslim &amp; Arab Singles, Marriage &amp; Da...</td>\n",
       "      <td>DATING</td>\n",
       "      <td>3.8</td>\n",
       "      <td>5164.0</td>\n",
       "      <td>2.5e+07</td>\n",
       "      <td>100000</td>\n",
       "      <td>Free</td>\n",
       "      <td>0.00</td>\n",
       "      <td>Mature 17+</td>\n",
       "      <td>Dating</td>\n",
       "      <td>2018-07-24</td>\n",
       "      <td>3.8.75a</td>\n",
       "      <td>4.0.3 and up</td>\n",
       "    </tr>\n",
       "    <tr>\n",
       "      <th>558</th>\n",
       "      <td>muzmatch: Muslim &amp; Arab Singles, Marriage &amp; Da...</td>\n",
       "      <td>DATING</td>\n",
       "      <td>3.8</td>\n",
       "      <td>5164.0</td>\n",
       "      <td>2.5e+07</td>\n",
       "      <td>100000</td>\n",
       "      <td>Free</td>\n",
       "      <td>0.00</td>\n",
       "      <td>Mature 17+</td>\n",
       "      <td>Dating</td>\n",
       "      <td>2018-07-24</td>\n",
       "      <td>3.8.75a</td>\n",
       "      <td>4.0.3 and up</td>\n",
       "    </tr>\n",
       "    <tr>\n",
       "      <th>2331</th>\n",
       "      <td>mySugr: the blood sugar tracker made just for you</td>\n",
       "      <td>MEDICAL</td>\n",
       "      <td>4.6</td>\n",
       "      <td>21189.0</td>\n",
       "      <td>3.6e+07</td>\n",
       "      <td>1000000</td>\n",
       "      <td>Free</td>\n",
       "      <td>0.00</td>\n",
       "      <td>Everyone</td>\n",
       "      <td>Medical</td>\n",
       "      <td>2018-08-06</td>\n",
       "      <td>3.52.1</td>\n",
       "      <td>5.0 and up</td>\n",
       "    </tr>\n",
       "    <tr>\n",
       "      <th>2367</th>\n",
       "      <td>mySugr: the blood sugar tracker made just for you</td>\n",
       "      <td>MEDICAL</td>\n",
       "      <td>4.6</td>\n",
       "      <td>21189.0</td>\n",
       "      <td>3.6e+07</td>\n",
       "      <td>1000000</td>\n",
       "      <td>Free</td>\n",
       "      <td>0.00</td>\n",
       "      <td>Everyone</td>\n",
       "      <td>Medical</td>\n",
       "      <td>2018-08-06</td>\n",
       "      <td>3.52.1</td>\n",
       "      <td>5.0 and up</td>\n",
       "    </tr>\n",
       "    <tr>\n",
       "      <th>1891</th>\n",
       "      <td>slither.io</td>\n",
       "      <td>GAME</td>\n",
       "      <td>4.4</td>\n",
       "      <td>5235294.0</td>\n",
       "      <td>0</td>\n",
       "      <td>100000000</td>\n",
       "      <td>Free</td>\n",
       "      <td>0.00</td>\n",
       "      <td>Everyone</td>\n",
       "      <td>Action</td>\n",
       "      <td>2017-11-14</td>\n",
       "      <td>Varies with device</td>\n",
       "      <td>2.3 and up</td>\n",
       "    </tr>\n",
       "    <tr>\n",
       "      <th>1921</th>\n",
       "      <td>slither.io</td>\n",
       "      <td>GAME</td>\n",
       "      <td>4.4</td>\n",
       "      <td>5235294.0</td>\n",
       "      <td>0</td>\n",
       "      <td>100000000</td>\n",
       "      <td>Free</td>\n",
       "      <td>0.00</td>\n",
       "      <td>Everyone</td>\n",
       "      <td>Action</td>\n",
       "      <td>2017-11-14</td>\n",
       "      <td>Varies with device</td>\n",
       "      <td>2.3 and up</td>\n",
       "    </tr>\n",
       "    <tr>\n",
       "      <th>3063</th>\n",
       "      <td>theScore: Live Sports Scores, News, Stats &amp; Vi...</td>\n",
       "      <td>SPORTS</td>\n",
       "      <td>4.4</td>\n",
       "      <td>133833.0</td>\n",
       "      <td>3.4e+07</td>\n",
       "      <td>10000000</td>\n",
       "      <td>Free</td>\n",
       "      <td>0.00</td>\n",
       "      <td>Everyone 10+</td>\n",
       "      <td>Sports</td>\n",
       "      <td>2018-07-25</td>\n",
       "      <td>6.17.2</td>\n",
       "      <td>4.4 and up</td>\n",
       "    </tr>\n",
       "    <tr>\n",
       "      <th>3085</th>\n",
       "      <td>theScore: Live Sports Scores, News, Stats &amp; Vi...</td>\n",
       "      <td>SPORTS</td>\n",
       "      <td>4.4</td>\n",
       "      <td>133833.0</td>\n",
       "      <td>3.4e+07</td>\n",
       "      <td>10000000</td>\n",
       "      <td>Free</td>\n",
       "      <td>0.00</td>\n",
       "      <td>Everyone 10+</td>\n",
       "      <td>Sports</td>\n",
       "      <td>2018-07-25</td>\n",
       "      <td>6.17.2</td>\n",
       "      <td>4.4 and up</td>\n",
       "    </tr>\n",
       "    <tr>\n",
       "      <th>3014</th>\n",
       "      <td>theScore: Live Sports Scores, News, Stats &amp; Vi...</td>\n",
       "      <td>SPORTS</td>\n",
       "      <td>4.4</td>\n",
       "      <td>133825.0</td>\n",
       "      <td>3.4e+07</td>\n",
       "      <td>10000000</td>\n",
       "      <td>Free</td>\n",
       "      <td>0.00</td>\n",
       "      <td>Everyone 10+</td>\n",
       "      <td>Sports</td>\n",
       "      <td>2018-07-25</td>\n",
       "      <td>6.17.2</td>\n",
       "      <td>4.4 and up</td>\n",
       "    </tr>\n",
       "    <tr>\n",
       "      <th>2964</th>\n",
       "      <td>theScore: Live Sports Scores, News, Stats &amp; Vi...</td>\n",
       "      <td>SPORTS</td>\n",
       "      <td>4.4</td>\n",
       "      <td>133825.0</td>\n",
       "      <td>3.4e+07</td>\n",
       "      <td>10000000</td>\n",
       "      <td>Free</td>\n",
       "      <td>0.00</td>\n",
       "      <td>Everyone 10+</td>\n",
       "      <td>Sports</td>\n",
       "      <td>2018-07-25</td>\n",
       "      <td>6.17.2</td>\n",
       "      <td>4.4 and up</td>\n",
       "    </tr>\n",
       "    <tr>\n",
       "      <th>3055</th>\n",
       "      <td>theScore: Live Sports Scores, News, Stats &amp; Vi...</td>\n",
       "      <td>SPORTS</td>\n",
       "      <td>4.4</td>\n",
       "      <td>133833.0</td>\n",
       "      <td>3.4e+07</td>\n",
       "      <td>10000000</td>\n",
       "      <td>Free</td>\n",
       "      <td>0.00</td>\n",
       "      <td>Everyone 10+</td>\n",
       "      <td>Sports</td>\n",
       "      <td>2018-07-25</td>\n",
       "      <td>6.17.2</td>\n",
       "      <td>4.4 and up</td>\n",
       "    </tr>\n",
       "    <tr>\n",
       "      <th>3103</th>\n",
       "      <td>trivago: Hotels &amp; Travel</td>\n",
       "      <td>TRAVEL_AND_LOCAL</td>\n",
       "      <td>4.2</td>\n",
       "      <td>219848.0</td>\n",
       "      <td>0</td>\n",
       "      <td>50000000</td>\n",
       "      <td>Free</td>\n",
       "      <td>0.00</td>\n",
       "      <td>Everyone</td>\n",
       "      <td>Travel &amp; Local</td>\n",
       "      <td>2018-08-02</td>\n",
       "      <td>Varies with device</td>\n",
       "      <td>Varies with device</td>\n",
       "    </tr>\n",
       "    <tr>\n",
       "      <th>3118</th>\n",
       "      <td>trivago: Hotels &amp; Travel</td>\n",
       "      <td>TRAVEL_AND_LOCAL</td>\n",
       "      <td>4.2</td>\n",
       "      <td>219848.0</td>\n",
       "      <td>0</td>\n",
       "      <td>50000000</td>\n",
       "      <td>Free</td>\n",
       "      <td>0.00</td>\n",
       "      <td>Everyone</td>\n",
       "      <td>Travel &amp; Local</td>\n",
       "      <td>2018-08-02</td>\n",
       "      <td>Varies with device</td>\n",
       "      <td>Varies with device</td>\n",
       "    </tr>\n",
       "    <tr>\n",
       "      <th>3202</th>\n",
       "      <td>trivago: Hotels &amp; Travel</td>\n",
       "      <td>TRAVEL_AND_LOCAL</td>\n",
       "      <td>4.2</td>\n",
       "      <td>219848.0</td>\n",
       "      <td>0</td>\n",
       "      <td>50000000</td>\n",
       "      <td>Free</td>\n",
       "      <td>0.00</td>\n",
       "      <td>Everyone</td>\n",
       "      <td>Travel &amp; Local</td>\n",
       "      <td>2018-08-02</td>\n",
       "      <td>Varies with device</td>\n",
       "      <td>Varies with device</td>\n",
       "    </tr>\n",
       "  </tbody>\n",
       "</table>\n",
       "<p>876 rows × 13 columns</p>\n",
       "</div>"
      ],
      "text/plain": [
       "                                                     App            Category  \\\n",
       "1407                               10 Best Foods for You  HEALTH_AND_FITNESS   \n",
       "1393                               10 Best Foods for You  HEALTH_AND_FITNESS   \n",
       "2543                          1800 Contacts - Lens Store             MEDICAL   \n",
       "2322                          1800 Contacts - Lens Store             MEDICAL   \n",
       "2256                          2017 EMRA Antibiotic Guide             MEDICAL   \n",
       "2385                          2017 EMRA Antibiotic Guide             MEDICAL   \n",
       "1337                        21-Day Meditation Experience  HEALTH_AND_FITNESS   \n",
       "1434                        21-Day Meditation Experience  HEALTH_AND_FITNESS   \n",
       "2522                              420 BZ Budeze Delivery             MEDICAL   \n",
       "7035                              420 BZ Budeze Delivery             MEDICAL   \n",
       "1296                        8fit Workouts & Meal Planner  HEALTH_AND_FITNESS   \n",
       "1324                        8fit Workouts & Meal Planner  HEALTH_AND_FITNESS   \n",
       "2301                             A Manual of Acupuncture             MEDICAL   \n",
       "2402                             A Manual of Acupuncture             MEDICAL   \n",
       "920                A&E - Watch Full Episodes of TV Shows       ENTERTAINMENT   \n",
       "977                A&E - Watch Full Episodes of TV Shows       ENTERTAINMENT   \n",
       "946                A&E - Watch Full Episodes of TV Shows       ENTERTAINMENT   \n",
       "2515                                                AAFP             MEDICAL   \n",
       "10768                                               AAFP             MEDICAL   \n",
       "3806                          ABC News - US & World News  NEWS_AND_MAGAZINES   \n",
       "3787                          ABC News - US & World News  NEWS_AND_MAGAZINES   \n",
       "2378                                        ASCCP Mobile             MEDICAL   \n",
       "2246                                        ASCCP Mobile             MEDICAL   \n",
       "280                          Accounting App - Zoho Books            BUSINESS   \n",
       "251                          Accounting App - Zoho Books            BUSINESS   \n",
       "250                                      AdWords Express            BUSINESS   \n",
       "279                                      AdWords Express            BUSINESS   \n",
       "2488                             Ada - Your Health Guide             MEDICAL   \n",
       "2330                             Ada - Your Health Guide             MEDICAL   \n",
       "588                                   Adult Dirty Emojis              DATING   \n",
       "...                                                  ...                 ...   \n",
       "2329                                     fred's Pharmacy             MEDICAL   \n",
       "389                            free video calls and chat       COMMUNICATION   \n",
       "466                            free video calls and chat       COMMUNICATION   \n",
       "2244                                  iBP Blood Pressure             MEDICAL   \n",
       "6584                                  iBP Blood Pressure             MEDICAL   \n",
       "600                             iPair-Meet, Chat, Dating              DATING   \n",
       "695                             iPair-Meet, Chat, Dating              DATING   \n",
       "346                         imo beta free calls and text       COMMUNICATION   \n",
       "4123                        imo beta free calls and text       COMMUNICATION   \n",
       "465                        imo free video calls and chat       COMMUNICATION   \n",
       "4222                       imo free video calls and chat       COMMUNICATION   \n",
       "383                        imo free video calls and chat       COMMUNICATION   \n",
       "347                        imo free video calls and chat       COMMUNICATION   \n",
       "261                            join.me - Simple Meetings            BUSINESS   \n",
       "253                            join.me - Simple Meetings            BUSINESS   \n",
       "282                            join.me - Simple Meetings            BUSINESS   \n",
       "525    muzmatch: Muslim & Arab Singles, Marriage & Da...              DATING   \n",
       "558    muzmatch: Muslim & Arab Singles, Marriage & Da...              DATING   \n",
       "2331   mySugr: the blood sugar tracker made just for you             MEDICAL   \n",
       "2367   mySugr: the blood sugar tracker made just for you             MEDICAL   \n",
       "1891                                          slither.io                GAME   \n",
       "1921                                          slither.io                GAME   \n",
       "3063   theScore: Live Sports Scores, News, Stats & Vi...              SPORTS   \n",
       "3085   theScore: Live Sports Scores, News, Stats & Vi...              SPORTS   \n",
       "3014   theScore: Live Sports Scores, News, Stats & Vi...              SPORTS   \n",
       "2964   theScore: Live Sports Scores, News, Stats & Vi...              SPORTS   \n",
       "3055   theScore: Live Sports Scores, News, Stats & Vi...              SPORTS   \n",
       "3103                            trivago: Hotels & Travel    TRAVEL_AND_LOCAL   \n",
       "3118                            trivago: Hotels & Travel    TRAVEL_AND_LOCAL   \n",
       "3202                            trivago: Hotels & Travel    TRAVEL_AND_LOCAL   \n",
       "\n",
       "       Rating    Reviews     Size   Installs  Type  Price ContentRating  \\\n",
       "1407      4.0     2490.0  3.8e+06     500000  Free   0.00  Everyone 10+   \n",
       "1393      4.0     2490.0  3.8e+06     500000  Free   0.00  Everyone 10+   \n",
       "2543      4.7    23160.0  2.6e+07    1000000  Free   0.00      Everyone   \n",
       "2322      4.7    23160.0  2.6e+07    1000000  Free   0.00      Everyone   \n",
       "2256      4.4       12.0  3.8e+06       1000  Paid  16.99      Everyone   \n",
       "2385      4.4       12.0  3.8e+06       1000  Paid  16.99      Everyone   \n",
       "1337      4.4    11506.0  1.5e+07     100000  Free   0.00      Everyone   \n",
       "1434      4.4    11506.0  1.5e+07     100000  Free   0.00      Everyone   \n",
       "2522      5.0        2.0  1.1e+07        100  Free   0.00    Mature 17+   \n",
       "7035      5.0        2.0  1.1e+07        100  Free   0.00    Mature 17+   \n",
       "1296      4.6   115721.0  6.7e+07   10000000  Free   0.00      Everyone   \n",
       "1324      4.6   115721.0  6.7e+07   10000000  Free   0.00      Everyone   \n",
       "2301      3.5      214.0  6.8e+07       1000  Paid  33.99      Everyone   \n",
       "2402      3.5      214.0  6.8e+07       1000  Paid  33.99      Everyone   \n",
       "920       4.0    29706.0  1.9e+07    1000000  Free   0.00          Teen   \n",
       "977       4.0    29706.0  1.9e+07    1000000  Free   0.00          Teen   \n",
       "946       4.0    29706.0  1.9e+07    1000000  Free   0.00          Teen   \n",
       "2515      3.8       63.0  2.4e+07      10000  Free   0.00      Everyone   \n",
       "10768     3.8       63.0  2.4e+07      10000  Free   0.00      Everyone   \n",
       "3806      4.0    18976.0  3.5e+07    1000000  Free   0.00  Everyone 10+   \n",
       "3787      4.0    18976.0  3.5e+07    1000000  Free   0.00  Everyone 10+   \n",
       "2378      4.5       63.0  2.5e+07      10000  Paid   9.99      Everyone   \n",
       "2246      4.5       63.0  2.5e+07      10000  Paid   9.99      Everyone   \n",
       "280       4.5     3079.0  8.5e+06     100000  Free   0.00      Everyone   \n",
       "251       4.5     3079.0  8.5e+06     100000  Free   0.00      Everyone   \n",
       "250       4.1     7149.0  1.1e+07    1000000  Free   0.00      Everyone   \n",
       "279       4.1     7149.0  1.1e+07    1000000  Free   0.00      Everyone   \n",
       "2488      4.7    87418.0  1.4e+07    1000000  Free   0.00      Everyone   \n",
       "2330      4.7    87418.0  1.4e+07    1000000  Free   0.00      Everyone   \n",
       "588       2.8       80.0  5.5e+06      10000  Free   0.00          Teen   \n",
       "...       ...        ...      ...        ...   ...    ...           ...   \n",
       "2329      3.0      315.0  2.2e+07     100000  Free   0.00      Everyone   \n",
       "389       4.2   594728.0        0   50000000  Free   0.00      Everyone   \n",
       "466       4.2   594728.0        0   50000000  Free   0.00      Everyone   \n",
       "2244      4.4      578.0   704000      10000  Paid   0.99      Everyone   \n",
       "6584      4.4      578.0   704000      10000  Paid   0.99      Everyone   \n",
       "600       4.5   182986.0  7.7e+07    5000000  Free   0.00    Mature 17+   \n",
       "695       4.5   182986.0  7.7e+07    5000000  Free   0.00    Mature 17+   \n",
       "346       4.3   659395.0  1.1e+07  100000000  Free   0.00      Everyone   \n",
       "4123      4.3   659395.0  1.1e+07  100000000  Free   0.00      Everyone   \n",
       "465       4.3  4785988.0  1.1e+07  500000000  Free   0.00      Everyone   \n",
       "4222      4.3  4785892.0  1.1e+07  500000000  Free   0.00      Everyone   \n",
       "383       4.3  4785988.0  1.1e+07  500000000  Free   0.00      Everyone   \n",
       "347       4.3  4785892.0  1.1e+07  500000000  Free   0.00      Everyone   \n",
       "261       4.0     6989.0        0    1000000  Free   0.00      Everyone   \n",
       "253       4.0     6989.0        0    1000000  Free   0.00      Everyone   \n",
       "282       4.0     6989.0        0    1000000  Free   0.00      Everyone   \n",
       "525       3.8     5164.0  2.5e+07     100000  Free   0.00    Mature 17+   \n",
       "558       3.8     5164.0  2.5e+07     100000  Free   0.00    Mature 17+   \n",
       "2331      4.6    21189.0  3.6e+07    1000000  Free   0.00      Everyone   \n",
       "2367      4.6    21189.0  3.6e+07    1000000  Free   0.00      Everyone   \n",
       "1891      4.4  5235294.0        0  100000000  Free   0.00      Everyone   \n",
       "1921      4.4  5235294.0        0  100000000  Free   0.00      Everyone   \n",
       "3063      4.4   133833.0  3.4e+07   10000000  Free   0.00  Everyone 10+   \n",
       "3085      4.4   133833.0  3.4e+07   10000000  Free   0.00  Everyone 10+   \n",
       "3014      4.4   133825.0  3.4e+07   10000000  Free   0.00  Everyone 10+   \n",
       "2964      4.4   133825.0  3.4e+07   10000000  Free   0.00  Everyone 10+   \n",
       "3055      4.4   133833.0  3.4e+07   10000000  Free   0.00  Everyone 10+   \n",
       "3103      4.2   219848.0        0   50000000  Free   0.00      Everyone   \n",
       "3118      4.2   219848.0        0   50000000  Free   0.00      Everyone   \n",
       "3202      4.2   219848.0        0   50000000  Free   0.00      Everyone   \n",
       "\n",
       "                 Genres LastUpdated          CurrentVer          AndroidVer  \n",
       "1407   Health & Fitness  2017-02-17                 1.9        2.3.3 and up  \n",
       "1393   Health & Fitness  2017-02-17                 1.9        2.3.3 and up  \n",
       "2543            Medical  2018-07-27               7.4.1          5.0 and up  \n",
       "2322            Medical  2018-07-27               7.4.1          5.0 and up  \n",
       "2256            Medical  2017-01-27               1.0.5        4.0.3 and up  \n",
       "2385            Medical  2017-01-27               1.0.5        4.0.3 and up  \n",
       "1337   Health & Fitness  2018-08-02               3.0.0          4.1 and up  \n",
       "1434   Health & Fitness  2018-08-02               3.0.0          4.1 and up  \n",
       "2522            Medical  2018-06-06               1.0.1          4.1 and up  \n",
       "7035            Medical  2018-06-06               1.0.1          4.1 and up  \n",
       "1296   Health & Fitness  2018-07-11               3.5.0          5.0 and up  \n",
       "1324   Health & Fitness  2018-07-11               3.5.0          5.0 and up  \n",
       "2301            Medical  2017-10-02              2.1.35          4.0 and up  \n",
       "2402            Medical  2017-10-02              2.1.35          4.0 and up  \n",
       "920       Entertainment  2018-07-16               3.1.4          4.4 and up  \n",
       "977       Entertainment  2018-07-16               3.1.4          4.4 and up  \n",
       "946       Entertainment  2018-07-16               3.1.4          4.4 and up  \n",
       "2515            Medical  2018-06-22               2.3.1          5.0 and up  \n",
       "10768           Medical  2018-06-22               2.3.1          5.0 and up  \n",
       "3806   News & Magazines  2018-06-06             3.19.11          5.0 and up  \n",
       "3787   News & Magazines  2018-06-06             3.19.11          5.0 and up  \n",
       "2378            Medical  2016-10-03               2.1.1          2.2 and up  \n",
       "2246            Medical  2016-10-03               2.1.1          2.2 and up  \n",
       "280            Business  2018-08-02              5.20.7          4.1 and up  \n",
       "251            Business  2018-08-02              5.20.7          4.1 and up  \n",
       "250            Business  2018-07-31             2.6.158          4.0 and up  \n",
       "279            Business  2018-07-31             2.6.158          4.0 and up  \n",
       "2488            Medical  2018-07-16              2.25.0          4.4 and up  \n",
       "2330            Medical  2018-07-16              2.25.0          4.4 and up  \n",
       "588              Dating  2017-11-06                 1.0        4.0.3 and up  \n",
       "...                 ...         ...                 ...                 ...  \n",
       "2329            Medical  2017-10-10              1.0.02          4.0 and up  \n",
       "389       Communication  2018-07-19         7.3(800241)          4.4 and up  \n",
       "466       Communication  2018-07-19         7.3(800241)          4.4 and up  \n",
       "2244            Medical  2014-11-30               7.0.1          2.2 and up  \n",
       "6584            Medical  2014-11-30               7.0.1          2.2 and up  \n",
       "600              Dating  2018-08-02               5.0.8          4.1 and up  \n",
       "695              Dating  2018-08-02               5.0.8          4.1 and up  \n",
       "346       Communication  2018-06-07    9.8.000000010492          4.0 and up  \n",
       "4123      Communication  2018-06-07    9.8.000000010492          4.0 and up  \n",
       "465       Communication  2018-06-08    9.8.000000010501          4.0 and up  \n",
       "4222      Communication  2018-06-08    9.8.000000010501          4.0 and up  \n",
       "383       Communication  2018-06-08    9.8.000000010501          4.0 and up  \n",
       "347       Communication  2018-06-08    9.8.000000010501          4.0 and up  \n",
       "261            Business  2018-07-16           4.3.0.508          4.4 and up  \n",
       "253            Business  2018-07-16           4.3.0.508          4.4 and up  \n",
       "282            Business  2018-07-16           4.3.0.508          4.4 and up  \n",
       "525              Dating  2018-07-24             3.8.75a        4.0.3 and up  \n",
       "558              Dating  2018-07-24             3.8.75a        4.0.3 and up  \n",
       "2331            Medical  2018-08-06              3.52.1          5.0 and up  \n",
       "2367            Medical  2018-08-06              3.52.1          5.0 and up  \n",
       "1891             Action  2017-11-14  Varies with device          2.3 and up  \n",
       "1921             Action  2017-11-14  Varies with device          2.3 and up  \n",
       "3063             Sports  2018-07-25              6.17.2          4.4 and up  \n",
       "3085             Sports  2018-07-25              6.17.2          4.4 and up  \n",
       "3014             Sports  2018-07-25              6.17.2          4.4 and up  \n",
       "2964             Sports  2018-07-25              6.17.2          4.4 and up  \n",
       "3055             Sports  2018-07-25              6.17.2          4.4 and up  \n",
       "3103     Travel & Local  2018-08-02  Varies with device  Varies with device  \n",
       "3118     Travel & Local  2018-08-02  Varies with device  Varies with device  \n",
       "3202     Travel & Local  2018-08-02  Varies with device  Varies with device  \n",
       "\n",
       "[876 rows x 13 columns]"
      ]
     },
     "execution_count": 70,
     "metadata": {},
     "output_type": "execute_result"
    }
   ],
   "source": [
    "#Check for duplicate rows\n",
    "apps[apps.duplicated(keep=False)].sort_values('App')"
   ]
  },
  {
   "cell_type": "code",
   "execution_count": 71,
   "metadata": {},
   "outputs": [],
   "source": [
    " # dropping duplicate rows\n",
    "apps=apps.drop_duplicates()"
   ]
  },
  {
   "cell_type": "code",
   "execution_count": 72,
   "metadata": {
    "scrolled": false
   },
   "outputs": [
    {
     "data": {
      "text/plain": [
       "(8886, 13)"
      ]
     },
     "execution_count": 72,
     "metadata": {},
     "output_type": "execute_result"
    }
   ],
   "source": [
    "apps.shape"
   ]
  },
  {
   "cell_type": "markdown",
   "metadata": {},
   "source": [
    "### After removing null values and duplicated rows, we have 8886 rows and 13 columns"
   ]
  },
  {
   "cell_type": "markdown",
   "metadata": {},
   "source": [
    "## Visualization\n"
   ]
  },
  {
   "cell_type": "code",
   "execution_count": 74,
   "metadata": {},
   "outputs": [],
   "source": [
    "plt.rcParams['figure.figsize']=(10,5) #changing the size of the output"
   ]
  },
  {
   "cell_type": "code",
   "execution_count": 90,
   "metadata": {
    "scrolled": true
   },
   "outputs": [
    {
     "data": {
      "text/plain": [
       "<matplotlib.axes._subplots.AxesSubplot at 0x191837cc5f8>"
      ]
     },
     "execution_count": 90,
     "metadata": {},
     "output_type": "execute_result"
    },
    {
     "data": {
      "image/png": "[encoded data removed]",
      "text/plain": [
       "<Figure size 720x360 with 1 Axes>"
      ]
     },
     "metadata": {
      "needs_background": "light"
     },
     "output_type": "display_data"
    }
   ],
   "source": [
    "#Which categories have the most apps?\n",
    "apps.Category.value_counts().plot('bar',color='g')  "
   ]
  },
  {
   "cell_type": "markdown",
   "metadata": {},
   "source": [
    "#####  Family category has maximum number of apps "
   ]
  },
  {
   "cell_type": "code",
   "execution_count": 94,
   "metadata": {},
   "outputs": [
    {
     "data": {
      "text/plain": [
       "<matplotlib.axes._subplots.AxesSubplot at 0x19183292e48>"
      ]
     },
     "execution_count": 94,
     "metadata": {},
     "output_type": "execute_result"
    },
    {
     "data": {
      "image/png": "[encoded data removed]",
      "text/plain": [
       "<Figure size 720x360 with 1 Axes>"
      ]
     },
     "metadata": {
      "needs_background": "light"
     },
     "output_type": "display_data"
    }
   ],
   "source": [
    "#Which categories are most popular (by installs)?\n",
    "gb = apps.groupby('Category')\n",
    "gb['Installs'].sum().plot('bar',color='y') "
   ]
  },
  {
   "cell_type": "markdown",
   "metadata": {},
   "source": [
    "#### Game category is the most popular category by Installs"
   ]
  },
  {
   "cell_type": "code",
   "execution_count": 100,
   "metadata": {
    "scrolled": true
   },
   "outputs": [
    {
     "data": {
      "text/plain": [
       "<matplotlib.axes._subplots.AxesSubplot at 0x19181dbdac8>"
      ]
     },
     "execution_count": 100,
     "metadata": {},
     "output_type": "execute_result"
    },
    {
     "data": {
      "image/png": "[encoded data removed]",
      "text/plain": [
       "<Figure size 720x360 with 1 Axes>"
      ]
     },
     "metadata": {
      "needs_background": "light"
     },
     "output_type": "display_data"
    }
   ],
   "source": [
    "#What is the range of application size (using a boxplot)\n",
    "#apps.Size.plot('box')\n",
    "sns.boxplot(apps.Size,color='orange') "
   ]
  },
  {
   "cell_type": "markdown",
   "metadata": {},
   "source": [
    "#### The range lies between 0 and 0.625"
   ]
  },
  {
   "cell_type": "code",
   "execution_count": 181,
   "metadata": {},
   "outputs": [
    {
     "data": {
      "text/plain": [
       "<matplotlib.axes._subplots.AxesSubplot at 0x1918dd74198>"
      ]
     },
     "execution_count": 181,
     "metadata": {},
     "output_type": "execute_result"
    },
    {
     "data": {
      "image/png": "[encoded data removed]",
      "text/plain": [
       "<Figure size 720x360 with 1 Axes>"
      ]
     },
     "metadata": {
      "needs_background": "light"
     },
     "output_type": "display_data"
    }
   ],
   "source": [
    "#distribution of price for paid apps only\n",
    "#apps.Price.loc[apps['Type']=='Paid'].value_counts().plot('hist')\n",
    "apps.Price.loc[apps['Type']=='Paid'].value_counts().plot('hist',x='Price',y='Frequency')"
   ]
  },
  {
   "cell_type": "markdown",
   "metadata": {},
   "source": [
    " #### Most of the paid apps cost below 20 Dollars . There are few costly apps which cost more than 100 Dollars"
   ]
  },
  {
   "cell_type": "code",
   "execution_count": 110,
   "metadata": {},
   "outputs": [
    {
     "data": {
      "text/plain": [
       "447"
      ]
     },
     "execution_count": 110,
     "metadata": {},
     "output_type": "execute_result"
    }
   ],
   "source": [
    "#No: of apps having multiple genres\n",
    "#len(apps[apps['Genres'].str.count(';') >= 1])\n",
    "len(apps.loc[apps.Genres.str.contains(';'),['App','Genres']])"
   ]
  },
  {
   "cell_type": "markdown",
   "metadata": {},
   "source": [
    "#### There are 447 apps with moret han one Genres"
   ]
  },
  {
   "cell_type": "code",
   "execution_count": 122,
   "metadata": {},
   "outputs": [
    {
     "data": {
      "text/plain": [
       "<matplotlib.axes._subplots.AxesSubplot at 0x1918c417898>"
      ]
     },
     "execution_count": 122,
     "metadata": {},
     "output_type": "execute_result"
    },
    {
     "data": {
      "image/png": "[encoded data removed]",
      "text/plain": [
       "<Figure size 720x360 with 1 Axes>"
      ]
     },
     "metadata": {
      "needs_background": "light"
     },
     "output_type": "display_data"
    }
   ],
   "source": [
    "#Plot a bar chart for Last Updated by year\n",
    "\n",
    "apps['Year'] = apps.LastUpdated.str[0:4].astype(int)\n",
    "\n",
    "apps.Year.value_counts().plot(kind='bar',color='purple')\n",
    "\n",
    "#apps['LastUpdated'].str[:4].astype(int).value_counts().plot(kind='bar',x='Last Updated Year')\n",
    "\n"
   ]
  },
  {
   "cell_type": "code",
   "execution_count": 124,
   "metadata": {
    "scrolled": true
   },
   "outputs": [
    {
     "data": {
      "text/plain": [
       "<matplotlib.axes._subplots.AxesSubplot at 0x1918c474c18>"
      ]
     },
     "execution_count": 124,
     "metadata": {},
     "output_type": "execute_result"
    },
    {
     "data": {
      "image/png": "[encoded data removed]",
      "text/plain": [
       "<Figure size 720x360 with 1 Axes>"
      ]
     },
     "metadata": {
      "needs_background": "light"
     },
     "output_type": "display_data"
    }
   ],
   "source": [
    "#scatter plot to show the relationship between rating and number of installs\n",
    "apps.plot(kind='scatter',x='Rating',y='Installs')\n",
    "#sns.scatterplot(apps.Rating,apps.Installs)"
   ]
  },
  {
   "cell_type": "markdown",
   "metadata": {},
   "source": [
    "#### Highly rated apps have more installs"
   ]
  },
  {
   "cell_type": "code",
   "execution_count": 138,
   "metadata": {
    "scrolled": true
   },
   "outputs": [
    {
     "name": "stdout",
     "output_type": "stream",
     "text": [
      "Type\n",
      "Free    1.465552e+11\n",
      "Paid    6.916148e+07\n",
      "Name: Installs, dtype: float64\n"
     ]
    },
    {
     "data": {
      "image/png": "[encoded data removed]",
      "text/plain": [
       "<Figure size 720x360 with 1 Axes>"
      ]
     },
     "metadata": {
      "needs_background": "light"
     },
     "output_type": "display_data"
    }
   ],
   "source": [
    "#Do free apps have more installs than paid apps on average?\n",
    "grptype = apps.groupby('Type')\n",
    "grptype['Installs'].sum().plot('bar')\n",
    "print(grptype['Installs'].sum()) "
   ]
  },
  {
   "cell_type": "markdown",
   "metadata": {},
   "source": [
    "#### Yes, Free apps have more installs than paid apps"
   ]
  },
  {
   "cell_type": "code",
   "execution_count": 142,
   "metadata": {
    "scrolled": true
   },
   "outputs": [
    {
     "data": {
      "text/plain": [
       "<matplotlib.axes._subplots.AxesSubplot at 0x1918dc52a58>"
      ]
     },
     "execution_count": 142,
     "metadata": {},
     "output_type": "execute_result"
    },
    {
     "data": {
      "image/png": "[encoded data removed]",
      "text/plain": [
       "<Figure size 720x360 with 1 Axes>"
      ]
     },
     "metadata": {
      "needs_background": "light"
     },
     "output_type": "display_data"
    }
   ],
   "source": [
    "#Which categories appear the most among top 100 most expensive apps?\n",
    "expensive_apps = apps.nlargest(100,'Price',keep='first')\n",
    "expensive_apps.Category.value_counts().plot.bar()"
   ]
  },
  {
   "cell_type": "markdown",
   "metadata": {},
   "source": [
    "#### Medical and Family apps are far expensive than other apps."
   ]
  },
  {
   "cell_type": "code",
   "execution_count": 146,
   "metadata": {
    "scrolled": true
   },
   "outputs": [
    {
     "data": {
      "text/plain": [
       "-             1404\n",
       "&              781\n",
       "for            482\n",
       "free           421\n",
       "app            248\n",
       "the            237\n",
       "and            230\n",
       "mobile         189\n",
       "pro            168\n",
       "video          163\n",
       "live           157\n",
       "photo          153\n",
       "by             149\n",
       "of             142\n",
       "my             129\n",
       "–              127\n",
       "news           121\n",
       "camera         119\n",
       "2018           117\n",
       "game           114\n",
       "editor         113\n",
       "chat           111\n",
       "3d             106\n",
       "games          103\n",
       "theme           99\n",
       "simulator       94\n",
       "dating          94\n",
       "calculator      94\n",
       "2               93\n",
       "to              93\n",
       "              ... \n",
       "3               44\n",
       "new             44\n",
       "smart           44\n",
       "sports          43\n",
       "shopping        43\n",
       "dr.             43\n",
       "wallpapers      43\n",
       "i               43\n",
       "at              42\n",
       "best            42\n",
       "cv              42\n",
       "phone           42\n",
       "er              42\n",
       "dx              41\n",
       "x               40\n",
       "super           40\n",
       "coloring        40\n",
       "world           40\n",
       "guide           40\n",
       "+               40\n",
       "ex              39\n",
       "all             39\n",
       "city            39\n",
       "test            39\n",
       "bd              38\n",
       "es              37\n",
       "zombie          37\n",
       "doctor          37\n",
       "meet            37\n",
       "|               37\n",
       "Length: 100, dtype: int64"
      ]
     },
     "execution_count": 146,
     "metadata": {},
     "output_type": "execute_result"
    }
   ],
   "source": [
    "#Can you show the top 100 most common words that appear in apps name?\n",
    "words = pd.Series(' '.join(apps['App']).lower().split())\n",
    "words.value_counts()[:100].head(100)\n"
   ]
  },
  {
   "cell_type": "code",
   "execution_count": 147,
   "metadata": {},
   "outputs": [
    {
     "data": {
      "text/html": [
       "<div>\n",
       "<style scoped>\n",
       "    .dataframe tbody tr th:only-of-type {\n",
       "        vertical-align: middle;\n",
       "    }\n",
       "\n",
       "    .dataframe tbody tr th {\n",
       "        vertical-align: top;\n",
       "    }\n",
       "\n",
       "    .dataframe thead th {\n",
       "        text-align: right;\n",
       "    }\n",
       "</style>\n",
       "<table border=\"1\" class=\"dataframe\">\n",
       "  <thead>\n",
       "    <tr style=\"text-align: right;\">\n",
       "      <th></th>\n",
       "      <th>App</th>\n",
       "      <th>Category</th>\n",
       "      <th>Rating</th>\n",
       "      <th>Reviews</th>\n",
       "      <th>Size</th>\n",
       "      <th>Installs</th>\n",
       "      <th>Type</th>\n",
       "      <th>Price</th>\n",
       "      <th>ContentRating</th>\n",
       "      <th>Genres</th>\n",
       "      <th>LastUpdated</th>\n",
       "      <th>CurrentVer</th>\n",
       "      <th>AndroidVer</th>\n",
       "      <th>Year</th>\n",
       "    </tr>\n",
       "  </thead>\n",
       "  <tbody>\n",
       "    <tr>\n",
       "      <th>1653</th>\n",
       "      <td>ROBLOX</td>\n",
       "      <td>GAME</td>\n",
       "      <td>4.5</td>\n",
       "      <td>4447388.0</td>\n",
       "      <td>6.7e+07</td>\n",
       "      <td>100000000</td>\n",
       "      <td>Free</td>\n",
       "      <td>0.0</td>\n",
       "      <td>Everyone 10+</td>\n",
       "      <td>Adventure;Action &amp; Adventure</td>\n",
       "      <td>2018-07-31</td>\n",
       "      <td>2.347.225742</td>\n",
       "      <td>4.1 and up</td>\n",
       "      <td>2018</td>\n",
       "    </tr>\n",
       "    <tr>\n",
       "      <th>1654</th>\n",
       "      <td>Subway Surfers</td>\n",
       "      <td>GAME</td>\n",
       "      <td>4.5</td>\n",
       "      <td>27722264.0</td>\n",
       "      <td>7.6e+07</td>\n",
       "      <td>1000000000</td>\n",
       "      <td>Free</td>\n",
       "      <td>0.0</td>\n",
       "      <td>Everyone 10+</td>\n",
       "      <td>Arcade</td>\n",
       "      <td>2018-07-12</td>\n",
       "      <td>1.90.0</td>\n",
       "      <td>4.1 and up</td>\n",
       "      <td>2018</td>\n",
       "    </tr>\n",
       "    <tr>\n",
       "      <th>1655</th>\n",
       "      <td>Candy Crush Saga</td>\n",
       "      <td>GAME</td>\n",
       "      <td>4.4</td>\n",
       "      <td>22426677.0</td>\n",
       "      <td>7.4e+07</td>\n",
       "      <td>500000000</td>\n",
       "      <td>Free</td>\n",
       "      <td>0.0</td>\n",
       "      <td>Everyone</td>\n",
       "      <td>Casual</td>\n",
       "      <td>2018-07-05</td>\n",
       "      <td>1.129.0.2</td>\n",
       "      <td>4.1 and up</td>\n",
       "      <td>2018</td>\n",
       "    </tr>\n",
       "  </tbody>\n",
       "</table>\n",
       "</div>"
      ],
      "text/plain": [
       "                   App Category  Rating     Reviews     Size    Installs  \\\n",
       "1653            ROBLOX     GAME     4.5   4447388.0  6.7e+07   100000000   \n",
       "1654    Subway Surfers     GAME     4.5  27722264.0  7.6e+07  1000000000   \n",
       "1655  Candy Crush Saga     GAME     4.4  22426677.0  7.4e+07   500000000   \n",
       "\n",
       "      Type  Price ContentRating                        Genres LastUpdated  \\\n",
       "1653  Free    0.0  Everyone 10+  Adventure;Action & Adventure  2018-07-31   \n",
       "1654  Free    0.0  Everyone 10+                        Arcade  2018-07-12   \n",
       "1655  Free    0.0      Everyone                        Casual  2018-07-05   \n",
       "\n",
       "        CurrentVer  AndroidVer  Year  \n",
       "1653  2.347.225742  4.1 and up  2018  \n",
       "1654        1.90.0  4.1 and up  2018  \n",
       "1655     1.129.0.2  4.1 and up  2018  "
      ]
     },
     "execution_count": 147,
     "metadata": {},
     "output_type": "execute_result"
    }
   ],
   "source": [
    "#pick a category that you like and do in-depth analysis on that category. For example: Game apps\n",
    "game_apps = apps[apps['Category']=='GAME']\n",
    "game_apps.head(3)"
   ]
  },
  {
   "cell_type": "code",
   "execution_count": 147,
   "metadata": {},
   "outputs": [
    {
     "data": {
      "text/plain": [
       "<matplotlib.axes._subplots.AxesSubplot at 0x20930ff0ba8>"
      ]
     },
     "execution_count": 147,
     "metadata": {},
     "output_type": "execute_result"
    },
    {
     "data": {
      "image/png": "[encoded data removed]",
      "text/plain": [
       "<Figure size 720x360 with 1 Axes>"
      ]
     },
     "metadata": {
      "needs_background": "light"
     },
     "output_type": "display_data"
    }
   ],
   "source": [
    "#Make a chart that shows the relationship between price, ratings and review.\n",
    "reviews = apps[apps.Reviews!=0]\n",
    "g = sns.scatterplot(x='Rating',y='Reviews',hue='Type', data=reviews)"
   ]
  },
  {
   "cell_type": "code",
   "execution_count": 157,
   "metadata": {
    "scrolled": true
   },
   "outputs": [
    {
     "data": {
      "text/plain": [
       "<matplotlib.axes._subplots.AxesSubplot at 0x1918dc52320>"
      ]
     },
     "execution_count": 157,
     "metadata": {},
     "output_type": "execute_result"
    },
    {
     "data": {
      "image/png": "[encoded data removed]",
      "text/plain": [
       "<Figure size 720x360 with 1 Axes>"
      ]
     },
     "metadata": {
      "needs_background": "light"
     },
     "output_type": "display_data"
    }
   ],
   "source": [
    "#What are the most popular genres?\n",
    "pd.Series(';'.join(apps['Genres']).split(';')).value_counts()[:10].plot.bar()"
   ]
  },
  {
   "cell_type": "markdown",
   "metadata": {},
   "source": [
    "#### The most popular Genres: Tools"
   ]
  },
  {
   "cell_type": "code",
   "execution_count": 161,
   "metadata": {
    "scrolled": true
   },
   "outputs": [
    {
     "data": {
      "text/plain": [
       "array(['4.1 and up', '4.0.3 and up', '2.3 and up', '4.0 and up',\n",
       "       '4.4 and up', '2.3.3 and up', '3.0 and up', 'Varies with device',\n",
       "       '4.2 and up', '4.3 and up', '5.0 and up', '6.0 and up',\n",
       "       '2.1 and up', '1.5 and up', '3.2 and up', '2.2 and up',\n",
       "       '2.0 and up', '7.0 and up', '2.0.1 and up', '1.6 and up',\n",
       "       '5.1 and up', '3.1 and up'], dtype=object)"
      ]
     },
     "execution_count": 161,
     "metadata": {},
     "output_type": "execute_result"
    }
   ],
   "source": [
    "#Are games that support more android devices more popular?\n",
    "game_apps['AndroidVer'].unique()"
   ]
  },
  {
   "cell_type": "code",
   "execution_count": 162,
   "metadata": {
    "scrolled": false
   },
   "outputs": [
    {
     "data": {
      "text/plain": [
       "<matplotlib.axes._subplots.AxesSubplot at 0x1918f0c4860>"
      ]
     },
     "execution_count": 162,
     "metadata": {},
     "output_type": "execute_result"
    },
    {
     "data": {
      "image/png": "[encoded data removed]",
      "text/plain": [
       "<Figure size 720x360 with 1 Axes>"
      ]
     },
     "metadata": {
      "needs_background": "light"
     },
     "output_type": "display_data"
    }
   ],
   "source": [
    "and_grp= game_apps.groupby('AndroidVer')\n",
    "and_grp['Installs'].sum().plot('bar') "
   ]
  },
  {
   "cell_type": "markdown",
   "metadata": {},
   "source": [
    "#### Most popular android version: 4.1 and up"
   ]
  },
  {
   "cell_type": "markdown",
   "metadata": {},
   "source": [
    "### Furthur Analysis of data"
   ]
  },
  {
   "cell_type": "code",
   "execution_count": 166,
   "metadata": {},
   "outputs": [
    {
     "data": {
      "text/plain": [
       "App\n",
       "1LINE – One Line with One Touch                        10000000.0\n",
       "2-Player Co-op Zombie Shoot                                1000.0\n",
       "211:CK                                                       10.0\n",
       "211:CK Lite                                                  10.0\n",
       "4 in a Row                                               500000.0\n",
       "4 in a row                                              5000000.0\n",
       "4x4 Jeep Racer                                          1000000.0\n",
       "5 Nights at Cube Pizzeria City                           100000.0\n",
       "7 Nights at Pixel Pizzeria - 2                          1000000.0\n",
       "8 Ball Pool                                           600000000.0\n",
       "AE 3D MOTOR :Racing Games Free                          5000000.0\n",
       "AE 3D Moto 3                                             100000.0\n",
       "AE Angry Chef                                             10000.0\n",
       "AE Bingo: Offline Bingo Games                            500000.0\n",
       "AE Blackjack                                             100000.0\n",
       "AE City Jump                                              10000.0\n",
       "AE Coin Mania : Arcade Fun                              1000000.0\n",
       "AE Fishing Hunter                                          1000.0\n",
       "AE FreeCell                                               10000.0\n",
       "AE GTO Racing                                            100000.0\n",
       "AE Gun Ball: arcade ball games                          1000000.0\n",
       "AE Jewels                                                 50000.0\n",
       "AE Jewels 2: Island Adventures                            10000.0\n",
       "AE Lucky Fishing                                        1000000.0\n",
       "AE Master Moto                                          1000000.0\n",
       "AE Solitaire                                              50000.0\n",
       "AE Spider Solitaire                                      500000.0\n",
       "AE Video Poker                                            50000.0\n",
       "AG Drive 3D                                               10000.0\n",
       "AH-1 Viper Cobra Ops - helicopter flight simulator       100000.0\n",
       "                                                         ...     \n",
       "Words With Friends – Play Free                         10000000.0\n",
       "Wordscapes                                             30000000.0\n",
       "World Series of Poker – WSOP Free Texas Holdem         10000000.0\n",
       "World of Warriors: Duel                                  500000.0\n",
       "X-WOLF                                                   100000.0\n",
       "Yes day                                               100000000.0\n",
       "Your rank CS:GO                                          100000.0\n",
       "Z Champions                                             1000000.0\n",
       "ZOMBIE RIPPER                                            500000.0\n",
       "Zlax.io Zombs Luv Ax                                     500000.0\n",
       "Zombie Avengers:(Dreamsky)Stickman War Z                1000000.0\n",
       "Zombie Catchers                                        60000000.0\n",
       "Zombie Death Shooter                                    1000000.0\n",
       "Zombie Frontier                                        10000000.0\n",
       "Zombie Hunter King                                      4000000.0\n",
       "Zombie Hunter: Post Apocalypse Survival Games          10000000.0\n",
       "Zombie Sniper 3D III                                     500000.0\n",
       "Zombie Tsunami                                        500000000.0\n",
       "Zombie War Z : Hero Survival Rules                       100000.0\n",
       "Zynga Poker – Texas Holdem                             50000000.0\n",
       "diep.io                                                10000000.0\n",
       "iGun Pro -The Original Gun App                         10000000.0\n",
       "iSniper 3D Arctic Warfare                               1000000.0\n",
       "kick the buddy                                            10000.0\n",
       "nds4droid                                              10000000.0\n",
       "slither.io                                            500000000.0\n",
       "that's lit                                               100000.0\n",
       "¡Ay Metro!                                                10000.0\n",
       "Аim Training for CS                                      100000.0\n",
       "► MultiCraft ― Free Miner! 👍                           50000000.0\n",
       "Name: Installs, Length: 913, dtype: float64"
      ]
     },
     "execution_count": 166,
     "metadata": {},
     "output_type": "execute_result"
    }
   ],
   "source": [
    "#More installed apps under game category\n",
    "gbgame = game_apps.groupby('App')\n",
    "gbgame['Installs'].sum()"
   ]
  },
  {
   "cell_type": "code",
   "execution_count": 167,
   "metadata": {},
   "outputs": [
    {
     "data": {
      "text/plain": [
       "array(['COMICS', 'DATING', 'EVENTS', 'LIBRARIES_AND_DEMO', 'MEDICAL',\n",
       "       'TOOLS', 'PERSONALIZATION', 'BOOKS_AND_REFERENCE', 'LIFESTYLE',\n",
       "       'SOCIAL', 'BUSINESS', 'NEWS_AND_MAGAZINES', 'PHOTOGRAPHY',\n",
       "       'SHOPPING', 'FAMILY', 'FOOD_AND_DRINK', 'GAME', 'TRAVEL_AND_LOCAL',\n",
       "       'FINANCE', 'HEALTH_AND_FITNESS', 'COMMUNICATION', 'PRODUCTIVITY',\n",
       "       'SPORTS', 'PARENTING', 'ART_AND_DESIGN'], dtype=object)"
      ]
     },
     "execution_count": 167,
     "metadata": {},
     "output_type": "execute_result"
    }
   ],
   "source": [
    "#Which category has highest rating\n",
    "apps.Category.loc[apps.Rating == apps.Rating.max()].unique()"
   ]
  },
  {
   "cell_type": "code",
   "execution_count": 168,
   "metadata": {
    "scrolled": true
   },
   "outputs": [
    {
     "data": {
      "text/plain": [
       "<matplotlib.axes._subplots.AxesSubplot at 0x1918f0dfe80>"
      ]
     },
     "execution_count": 168,
     "metadata": {},
     "output_type": "execute_result"
    },
    {
     "data": {
      "image/png": "[encoded data removed]",
      "text/plain": [
       "<Figure size 720x360 with 1 Axes>"
      ]
     },
     "metadata": {
      "needs_background": "light"
     },
     "output_type": "display_data"
    }
   ],
   "source": [
    "gb=apps.groupby('Category')\n",
    "gb['Rating'].sum().plot('bar')"
   ]
  },
  {
   "cell_type": "markdown",
   "metadata": {},
   "source": [
    "#### Family category has highest rating"
   ]
  },
  {
   "cell_type": "code",
   "execution_count": 169,
   "metadata": {},
   "outputs": [
    {
     "data": {
      "text/plain": [
       "<matplotlib.legend.Legend at 0x1918f0a0978>"
      ]
     },
     "execution_count": 169,
     "metadata": {},
     "output_type": "execute_result"
    },
    {
     "data": {
      "image/png": "[encoded data removed]",
      "text/plain": [
       "<Figure size 864x360 with 1 Axes>"
      ]
     },
     "metadata": {
      "needs_background": "light"
     },
     "output_type": "display_data"
    }
   ],
   "source": [
    "#No of app ratings based on category and type\n",
    "plt.figure(figsize=(12,5))\n",
    "ax=sns.barplot(x='Category',y='Rating',hue='Type',data=apps)\n",
    "plt.xticks(rotation=90)\n",
    "ax.legend()"
   ]
  },
  {
   "cell_type": "code",
   "execution_count": 170,
   "metadata": {},
   "outputs": [
    {
     "data": {
      "text/plain": [
       "App\n",
       "+Download 4 Instagram Twitter                                                                                                        4.5\n",
       "- Free Comics - Comic Apps                                                                                                           3.5\n",
       ".R                                                                                                                                   4.5\n",
       "/u/app                                                                                                                               4.7\n",
       "058.ba                                                                                                                               4.4\n",
       "1. FC Köln App                                                                                                                       4.6\n",
       "10 Best Foods for You                                                                                                                4.0\n",
       "10 Minutes a Day Times Tables                                                                                                        4.1\n",
       "10 WPM Amateur ham radio CW Morse code trainer                                                                                       3.5\n",
       "10,000 Quotes DB (Premium)                                                                                                           4.1\n",
       "100 Doors of Revenge                                                                                                                 4.1\n",
       "100+ C Programs                                                                                                                      4.2\n",
       "100000+ Messages - DP, Status, Jokes & GIF 2018                                                                                      3.7\n",
       "101 C Programming Problems                                                                                                           4.6\n",
       "104 Looking for a job - looking for a job, looking for a job, looking for a part-time job, health checkup, resume, treatment room    4.4\n",
       "11st                                                                                                                                 3.8\n",
       "12 Step Meditations & Sober Prayers AA NA AL-ANON                                                                                    4.7\n",
       "17th Edition Cable Sizer                                                                                                             4.4\n",
       "1800 Contacts - Lens Store                                                                                                           4.7\n",
       "1LINE – One Line with One Touch                                                                                                      4.6\n",
       "2 Amateur ham radio CW Morse code practice keys TX                                                                                   4.8\n",
       "2-Player Co-op Zombie Shoot                                                                                                          4.2\n",
       "20 Minuten (CH)                                                                                                                      3.5\n",
       "20 minutes (CH)                                                                                                                      3.7\n",
       "2000 AD Comics and Judge Dredd                                                                                                       3.7\n",
       "2017 EMRA Antibiotic Guide                                                                                                           4.4\n",
       "2018Emoji Keyboard 😂 Emoticons Lite -sticker&gif                                                                                     4.2\n",
       "2019 Tricks Es File Explores                                                                                                         3.0\n",
       "2048 BTS J Hope KPop Puzzle Game                                                                                                     4.7\n",
       "2048(AI)                                                                                                                             4.3\n",
       "                                                                                                                                    ... \n",
       "zulily - Shop Daily Deals in Fashion and Home                                                                                        4.5\n",
       "¡Ay Metro!                                                                                                                           3.8\n",
       "¿Es Vegan?                                                                                                                           4.6\n",
       "Égalité et Réconciliation                                                                                                            4.9\n",
       "ÖBB Scotty                                                                                                                           4.2\n",
       "İşCep                                                                                                                                4.5\n",
       "Šmelina .cz inzeráty inzerce                                                                                                         3.9\n",
       "Аim Training for CS                                                                                                                  3.6\n",
       "РИА Новости                                                                                                                          4.5\n",
       "РееI Smart Remote MP3 CD Player                                                                                                      3.2\n",
       "أحداث وحقائق | خبر عاجل في اخبار العالم                                                                                              4.8\n",
       "الفاتحون Conquerors                                                                                                                  4.5\n",
       "صور حرف H                                                                                                                            4.4\n",
       "لعبة تقدر تربح DZ                                                                                                                    4.2\n",
       "বাংলা টিভি প্রো BD Bangla TV                                                                                                         4.3\n",
       "বাংলাflix                                                                                                                            4.2\n",
       "သိင်္ Astrology - Min Thein Kha BayDin                                                                                               4.7\n",
       "► MultiCraft ― Free Miner! 👍                                                                                                         4.3\n",
       "【Miku AR Camera】Mikuture                                                                                                             4.4\n",
       "あなカレ【BL】無料ゲーム                                                                                                                        4.7\n",
       "乐屋网: Buying a house, selling a house, renting a house                                                                                3.7\n",
       "乗換NAVITIME　Timetable & Route Search in Japan Tokyo                                                                                   4.4\n",
       "日本AV历史                                                                                                                               4.1\n",
       "漫咖 Comics - Manga,Novel and Stories                                                                                                  4.1\n",
       "英漢字典 EC Dictionary                                                                                                                   4.3\n",
       "감성학원 BL 첫사랑                                                                                                                          4.4\n",
       "💎 I'm rich                                                                                                                           3.8\n",
       "💘 WhatsLov: Smileys of love, stickers and GIF                                                                                        4.6\n",
       "📏 Smart Ruler ↔️ cm/inch measuring for homework!                                                                                     4.0\n",
       "🔥 Football Wallpapers 4K | Full HD Backgrounds 😍                                                                                     4.7\n",
       "Name: Rating, Length: 8190, dtype: float64"
      ]
     },
     "execution_count": 170,
     "metadata": {},
     "output_type": "execute_result"
    }
   ],
   "source": [
    "#Average Rating of all apps\n",
    "grpavg = apps.groupby('App')\n",
    "#grpavg['Rating'].mean().plot('bar')\n",
    "#plt.xticks(rotation=90)\n",
    "grpavg['Rating'].mean()"
   ]
  },
  {
   "cell_type": "code",
   "execution_count": 171,
   "metadata": {},
   "outputs": [
    {
     "data": {
      "text/plain": [
       "271"
      ]
     },
     "execution_count": 171,
     "metadata": {},
     "output_type": "execute_result"
    }
   ],
   "source": [
    "#No: of apps have rating 5\n",
    "len(apps[apps.Rating==5])"
   ]
  },
  {
   "cell_type": "code",
   "execution_count": 174,
   "metadata": {},
   "outputs": [
    {
     "data": {
      "text/plain": [
       "App\n",
       "Instagram             199664676.0\n",
       "Facebook              156286514.0\n",
       "Subway Surfers        138606606.0\n",
       "WhatsApp Messenger    138228988.0\n",
       "Clash of Clans        134667058.0\n",
       "Name: Reviews, dtype: float64"
      ]
     },
     "execution_count": 174,
     "metadata": {},
     "output_type": "execute_result"
    }
   ],
   "source": [
    "# 5 Most Reviewed apps\n",
    "grpavg['Reviews'].sum().nlargest(5)"
   ]
  },
  {
   "cell_type": "markdown",
   "metadata": {},
   "source": [
    "#### 5 Most Reviewed apps are as shown above"
   ]
  },
  {
   "cell_type": "code",
   "execution_count": 178,
   "metadata": {},
   "outputs": [
    {
     "name": "stdout",
     "output_type": "stream",
     "text": [
      "Free    8275\n",
      "Paid     611\n",
      "Name: Type, dtype: int64\n",
      "Percentage of free apps:  93.12401530497412\n"
     ]
    }
   ],
   "source": [
    "#percentage of free apps\n",
    "print(apps.Type.value_counts())\n",
    "print('Percentage of free apps: ',(apps.Type.value_counts()[0]/ apps.Type.count())*100)"
   ]
  },
  {
   "cell_type": "markdown",
   "metadata": {},
   "source": [
    "#### 93.12% of the total apps are free apps"
   ]
  },
  {
   "cell_type": "code",
   "execution_count": 179,
   "metadata": {},
   "outputs": [
    {
     "name": "stdout",
     "output_type": "stream",
     "text": [
      "4367    I'm Rich - Trump Edition\n",
      "Name: App, dtype: object\n"
     ]
    },
    {
     "data": {
      "text/plain": [
       "400.0"
      ]
     },
     "execution_count": 179,
     "metadata": {},
     "output_type": "execute_result"
    }
   ],
   "source": [
    "#costliest App\n",
    "print(apps.App.loc[apps.Price==apps.Price.max()])\n",
    "apps.Price.max()"
   ]
  },
  {
   "cell_type": "markdown",
   "metadata": {},
   "source": [
    "#### \"I'm Rich - Trump Edition\" is the most costly app. Cost= $400"
   ]
  },
  {
   "cell_type": "code",
   "execution_count": 182,
   "metadata": {},
   "outputs": [
    {
     "data": {
      "text/plain": [
       "(5.5, -0.5)"
      ]
     },
     "execution_count": 182,
     "metadata": {},
     "output_type": "execute_result"
    },
    {
     "data": {
      "image/png": "[encoded data removed]",
      "text/plain": [
       "<Figure size 720x360 with 2 Axes>"
      ]
     },
     "metadata": {
      "needs_background": "light"
     },
     "output_type": "display_data"
    }
   ],
   "source": [
    "#Correlation Plot\n",
    "ax=sns.heatmap(apps.corr(),annot=True)\n",
    "bottom, top = ax.get_ylim()\n",
    "ax.set_ylim(bottom + 0.5, top - 0.5)"
   ]
  },
  {
   "cell_type": "code",
   "execution_count": 183,
   "metadata": {},
   "outputs": [
    {
     "data": {
      "text/html": [
       "<div>\n",
       "<style scoped>\n",
       "    .dataframe tbody tr th:only-of-type {\n",
       "        vertical-align: middle;\n",
       "    }\n",
       "\n",
       "    .dataframe tbody tr th {\n",
       "        vertical-align: top;\n",
       "    }\n",
       "\n",
       "    .dataframe thead th {\n",
       "        text-align: right;\n",
       "    }\n",
       "</style>\n",
       "<table border=\"1\" class=\"dataframe\">\n",
       "  <thead>\n",
       "    <tr style=\"text-align: right;\">\n",
       "      <th></th>\n",
       "      <th>Rating</th>\n",
       "      <th>Reviews</th>\n",
       "      <th>Installs</th>\n",
       "      <th>Price</th>\n",
       "      <th>Year</th>\n",
       "    </tr>\n",
       "    <tr>\n",
       "      <th>Category</th>\n",
       "      <th></th>\n",
       "      <th></th>\n",
       "      <th></th>\n",
       "      <th></th>\n",
       "      <th></th>\n",
       "    </tr>\n",
       "  </thead>\n",
       "  <tbody>\n",
       "    <tr>\n",
       "      <th>ART_AND_DESIGN</th>\n",
       "      <td>4.377049</td>\n",
       "      <td>2.810356e+04</td>\n",
       "      <td>2.036526e+06</td>\n",
       "      <td>0.097869</td>\n",
       "      <td>2017.819672</td>\n",
       "    </tr>\n",
       "    <tr>\n",
       "      <th>AUTO_AND_VEHICLES</th>\n",
       "      <td>4.190411</td>\n",
       "      <td>1.594014e+04</td>\n",
       "      <td>7.278055e+05</td>\n",
       "      <td>0.027260</td>\n",
       "      <td>2017.794521</td>\n",
       "    </tr>\n",
       "    <tr>\n",
       "      <th>BEAUTY</th>\n",
       "      <td>4.278571</td>\n",
       "      <td>9.407929e+03</td>\n",
       "      <td>6.408619e+05</td>\n",
       "      <td>0.000000</td>\n",
       "      <td>2017.761905</td>\n",
       "    </tr>\n",
       "    <tr>\n",
       "      <th>BOOKS_AND_REFERENCE</th>\n",
       "      <td>4.347458</td>\n",
       "      <td>1.235752e+05</td>\n",
       "      <td>1.082651e+07</td>\n",
       "      <td>0.134915</td>\n",
       "      <td>2017.180791</td>\n",
       "    </tr>\n",
       "    <tr>\n",
       "      <th>BUSINESS</th>\n",
       "      <td>4.102593</td>\n",
       "      <td>4.576928e+04</td>\n",
       "      <td>3.198215e+06</td>\n",
       "      <td>0.238556</td>\n",
       "      <td>2017.392593</td>\n",
       "    </tr>\n",
       "    <tr>\n",
       "      <th>COMICS</th>\n",
       "      <td>4.155172</td>\n",
       "      <td>5.830940e+04</td>\n",
       "      <td>9.661397e+05</td>\n",
       "      <td>0.000000</td>\n",
       "      <td>2017.775862</td>\n",
       "    </tr>\n",
       "    <tr>\n",
       "      <th>COMMUNICATION</th>\n",
       "      <td>4.151466</td>\n",
       "      <td>1.958544e+06</td>\n",
       "      <td>7.867180e+07</td>\n",
       "      <td>0.184658</td>\n",
       "      <td>2017.426710</td>\n",
       "    </tr>\n",
       "    <tr>\n",
       "      <th>DATING</th>\n",
       "      <td>3.971698</td>\n",
       "      <td>3.487525e+04</td>\n",
       "      <td>1.298883e+06</td>\n",
       "      <td>0.144403</td>\n",
       "      <td>2017.880503</td>\n",
       "    </tr>\n",
       "    <tr>\n",
       "      <th>EDUCATION</th>\n",
       "      <td>4.375969</td>\n",
       "      <td>1.795715e+05</td>\n",
       "      <td>4.138388e+06</td>\n",
       "      <td>0.139225</td>\n",
       "      <td>2017.410853</td>\n",
       "    </tr>\n",
       "    <tr>\n",
       "      <th>ENTERTAINMENT</th>\n",
       "      <td>4.136036</td>\n",
       "      <td>4.285650e+05</td>\n",
       "      <td>2.212306e+07</td>\n",
       "      <td>0.071892</td>\n",
       "      <td>2017.864865</td>\n",
       "    </tr>\n",
       "    <tr>\n",
       "      <th>EVENTS</th>\n",
       "      <td>4.435556</td>\n",
       "      <td>3.568667e+03</td>\n",
       "      <td>3.544313e+05</td>\n",
       "      <td>0.000000</td>\n",
       "      <td>2017.688889</td>\n",
       "    </tr>\n",
       "    <tr>\n",
       "      <th>FAMILY</th>\n",
       "      <td>4.191264</td>\n",
       "      <td>2.310824e+05</td>\n",
       "      <td>5.848038e+06</td>\n",
       "      <td>1.328940</td>\n",
       "      <td>2017.255679</td>\n",
       "    </tr>\n",
       "    <tr>\n",
       "      <th>FINANCE</th>\n",
       "      <td>4.127445</td>\n",
       "      <td>5.362640e+04</td>\n",
       "      <td>2.430008e+06</td>\n",
       "      <td>7.696751</td>\n",
       "      <td>2017.709779</td>\n",
       "    </tr>\n",
       "    <tr>\n",
       "      <th>FOOD_AND_DRINK</th>\n",
       "      <td>4.164151</td>\n",
       "      <td>7.237033e+04</td>\n",
       "      <td>2.431866e+06</td>\n",
       "      <td>0.080000</td>\n",
       "      <td>2017.905660</td>\n",
       "    </tr>\n",
       "    <tr>\n",
       "      <th>GAME</th>\n",
       "      <td>4.281285</td>\n",
       "      <td>1.318002e+06</td>\n",
       "      <td>2.937045e+07</td>\n",
       "      <td>0.261043</td>\n",
       "      <td>2017.326816</td>\n",
       "    </tr>\n",
       "    <tr>\n",
       "      <th>HEALTH_AND_FITNESS</th>\n",
       "      <td>4.261450</td>\n",
       "      <td>1.177293e+05</td>\n",
       "      <td>5.194680e+06</td>\n",
       "      <td>0.161794</td>\n",
       "      <td>2017.645038</td>\n",
       "    </tr>\n",
       "    <tr>\n",
       "      <th>HOUSE_AND_HOME</th>\n",
       "      <td>4.164706</td>\n",
       "      <td>4.109399e+04</td>\n",
       "      <td>1.839441e+06</td>\n",
       "      <td>0.000000</td>\n",
       "      <td>2017.544118</td>\n",
       "    </tr>\n",
       "    <tr>\n",
       "      <th>LIBRARIES_AND_DEMO</th>\n",
       "      <td>4.179688</td>\n",
       "      <td>1.583422e+04</td>\n",
       "      <td>9.544219e+05</td>\n",
       "      <td>0.000000</td>\n",
       "      <td>2017.031250</td>\n",
       "    </tr>\n",
       "    <tr>\n",
       "      <th>LIFESTYLE</th>\n",
       "      <td>4.096066</td>\n",
       "      <td>4.203134e+04</td>\n",
       "      <td>1.753250e+06</td>\n",
       "      <td>6.429115</td>\n",
       "      <td>2017.314754</td>\n",
       "    </tr>\n",
       "    <tr>\n",
       "      <th>MAPS_AND_NAVIGATION</th>\n",
       "      <td>4.051613</td>\n",
       "      <td>2.472505e+05</td>\n",
       "      <td>5.840867e+06</td>\n",
       "      <td>0.217339</td>\n",
       "      <td>2017.612903</td>\n",
       "    </tr>\n",
       "    <tr>\n",
       "      <th>MEDICAL</th>\n",
       "      <td>4.182450</td>\n",
       "      <td>4.623930e+03</td>\n",
       "      <td>1.396115e+05</td>\n",
       "      <td>2.148543</td>\n",
       "      <td>2017.298013</td>\n",
       "    </tr>\n",
       "    <tr>\n",
       "      <th>NEWS_AND_MAGAZINES</th>\n",
       "      <td>4.128505</td>\n",
       "      <td>1.787145e+05</td>\n",
       "      <td>2.520145e+07</td>\n",
       "      <td>0.018598</td>\n",
       "      <td>2017.700935</td>\n",
       "    </tr>\n",
       "    <tr>\n",
       "      <th>PARENTING</th>\n",
       "      <td>4.300000</td>\n",
       "      <td>1.907218e+04</td>\n",
       "      <td>6.223222e+05</td>\n",
       "      <td>0.191600</td>\n",
       "      <td>2017.820000</td>\n",
       "    </tr>\n",
       "    <tr>\n",
       "      <th>PERSONALIZATION</th>\n",
       "      <td>4.333117</td>\n",
       "      <td>2.441312e+05</td>\n",
       "      <td>6.734876e+06</td>\n",
       "      <td>0.401883</td>\n",
       "      <td>2016.902597</td>\n",
       "    </tr>\n",
       "    <tr>\n",
       "      <th>PHOTOGRAPHY</th>\n",
       "      <td>4.182895</td>\n",
       "      <td>6.720308e+05</td>\n",
       "      <td>3.197777e+07</td>\n",
       "      <td>0.250855</td>\n",
       "      <td>2017.450658</td>\n",
       "    </tr>\n",
       "    <tr>\n",
       "      <th>PRODUCTIVITY</th>\n",
       "      <td>4.201796</td>\n",
       "      <td>3.070486e+05</td>\n",
       "      <td>3.731458e+07</td>\n",
       "      <td>0.212335</td>\n",
       "      <td>2017.344311</td>\n",
       "    </tr>\n",
       "    <tr>\n",
       "      <th>SHOPPING</th>\n",
       "      <td>4.251485</td>\n",
       "      <td>4.699553e+05</td>\n",
       "      <td>1.273927e+07</td>\n",
       "      <td>0.027129</td>\n",
       "      <td>2017.811881</td>\n",
       "    </tr>\n",
       "    <tr>\n",
       "      <th>SOCIAL</th>\n",
       "      <td>4.254918</td>\n",
       "      <td>2.186789e+06</td>\n",
       "      <td>5.128624e+07</td>\n",
       "      <td>0.008115</td>\n",
       "      <td>2017.631148</td>\n",
       "    </tr>\n",
       "    <tr>\n",
       "      <th>SPORTS</th>\n",
       "      <td>4.225175</td>\n",
       "      <td>2.283990e+05</td>\n",
       "      <td>5.344516e+06</td>\n",
       "      <td>0.325909</td>\n",
       "      <td>2017.580420</td>\n",
       "    </tr>\n",
       "    <tr>\n",
       "      <th>TOOLS</th>\n",
       "      <td>4.047203</td>\n",
       "      <td>3.726878e+05</td>\n",
       "      <td>1.562104e+07</td>\n",
       "      <td>0.283629</td>\n",
       "      <td>2017.147340</td>\n",
       "    </tr>\n",
       "    <tr>\n",
       "      <th>TRAVEL_AND_LOCAL</th>\n",
       "      <td>4.094146</td>\n",
       "      <td>2.710488e+05</td>\n",
       "      <td>3.103346e+07</td>\n",
       "      <td>0.182878</td>\n",
       "      <td>2017.668293</td>\n",
       "    </tr>\n",
       "    <tr>\n",
       "      <th>VIDEO_PLAYERS</th>\n",
       "      <td>4.063750</td>\n",
       "      <td>6.898731e+05</td>\n",
       "      <td>3.888686e+07</td>\n",
       "      <td>0.065375</td>\n",
       "      <td>2017.262500</td>\n",
       "    </tr>\n",
       "    <tr>\n",
       "      <th>WEATHER</th>\n",
       "      <td>4.244000</td>\n",
       "      <td>1.947293e+05</td>\n",
       "      <td>5.681287e+06</td>\n",
       "      <td>0.392400</td>\n",
       "      <td>2017.413333</td>\n",
       "    </tr>\n",
       "  </tbody>\n",
       "</table>\n",
       "</div>"
      ],
      "text/plain": [
       "                       Rating       Reviews      Installs     Price  \\\n",
       "Category                                                              \n",
       "ART_AND_DESIGN       4.377049  2.810356e+04  2.036526e+06  0.097869   \n",
       "AUTO_AND_VEHICLES    4.190411  1.594014e+04  7.278055e+05  0.027260   \n",
       "BEAUTY               4.278571  9.407929e+03  6.408619e+05  0.000000   \n",
       "BOOKS_AND_REFERENCE  4.347458  1.235752e+05  1.082651e+07  0.134915   \n",
       "BUSINESS             4.102593  4.576928e+04  3.198215e+06  0.238556   \n",
       "COMICS               4.155172  5.830940e+04  9.661397e+05  0.000000   \n",
       "COMMUNICATION        4.151466  1.958544e+06  7.867180e+07  0.184658   \n",
       "DATING               3.971698  3.487525e+04  1.298883e+06  0.144403   \n",
       "EDUCATION            4.375969  1.795715e+05  4.138388e+06  0.139225   \n",
       "ENTERTAINMENT        4.136036  4.285650e+05  2.212306e+07  0.071892   \n",
       "EVENTS               4.435556  3.568667e+03  3.544313e+05  0.000000   \n",
       "FAMILY               4.191264  2.310824e+05  5.848038e+06  1.328940   \n",
       "FINANCE              4.127445  5.362640e+04  2.430008e+06  7.696751   \n",
       "FOOD_AND_DRINK       4.164151  7.237033e+04  2.431866e+06  0.080000   \n",
       "GAME                 4.281285  1.318002e+06  2.937045e+07  0.261043   \n",
       "HEALTH_AND_FITNESS   4.261450  1.177293e+05  5.194680e+06  0.161794   \n",
       "HOUSE_AND_HOME       4.164706  4.109399e+04  1.839441e+06  0.000000   \n",
       "LIBRARIES_AND_DEMO   4.179688  1.583422e+04  9.544219e+05  0.000000   \n",
       "LIFESTYLE            4.096066  4.203134e+04  1.753250e+06  6.429115   \n",
       "MAPS_AND_NAVIGATION  4.051613  2.472505e+05  5.840867e+06  0.217339   \n",
       "MEDICAL              4.182450  4.623930e+03  1.396115e+05  2.148543   \n",
       "NEWS_AND_MAGAZINES   4.128505  1.787145e+05  2.520145e+07  0.018598   \n",
       "PARENTING            4.300000  1.907218e+04  6.223222e+05  0.191600   \n",
       "PERSONALIZATION      4.333117  2.441312e+05  6.734876e+06  0.401883   \n",
       "PHOTOGRAPHY          4.182895  6.720308e+05  3.197777e+07  0.250855   \n",
       "PRODUCTIVITY         4.201796  3.070486e+05  3.731458e+07  0.212335   \n",
       "SHOPPING             4.251485  4.699553e+05  1.273927e+07  0.027129   \n",
       "SOCIAL               4.254918  2.186789e+06  5.128624e+07  0.008115   \n",
       "SPORTS               4.225175  2.283990e+05  5.344516e+06  0.325909   \n",
       "TOOLS                4.047203  3.726878e+05  1.562104e+07  0.283629   \n",
       "TRAVEL_AND_LOCAL     4.094146  2.710488e+05  3.103346e+07  0.182878   \n",
       "VIDEO_PLAYERS        4.063750  6.898731e+05  3.888686e+07  0.065375   \n",
       "WEATHER              4.244000  1.947293e+05  5.681287e+06  0.392400   \n",
       "\n",
       "                            Year  \n",
       "Category                          \n",
       "ART_AND_DESIGN       2017.819672  \n",
       "AUTO_AND_VEHICLES    2017.794521  \n",
       "BEAUTY               2017.761905  \n",
       "BOOKS_AND_REFERENCE  2017.180791  \n",
       "BUSINESS             2017.392593  \n",
       "COMICS               2017.775862  \n",
       "COMMUNICATION        2017.426710  \n",
       "DATING               2017.880503  \n",
       "EDUCATION            2017.410853  \n",
       "ENTERTAINMENT        2017.864865  \n",
       "EVENTS               2017.688889  \n",
       "FAMILY               2017.255679  \n",
       "FINANCE              2017.709779  \n",
       "FOOD_AND_DRINK       2017.905660  \n",
       "GAME                 2017.326816  \n",
       "HEALTH_AND_FITNESS   2017.645038  \n",
       "HOUSE_AND_HOME       2017.544118  \n",
       "LIBRARIES_AND_DEMO   2017.031250  \n",
       "LIFESTYLE            2017.314754  \n",
       "MAPS_AND_NAVIGATION  2017.612903  \n",
       "MEDICAL              2017.298013  \n",
       "NEWS_AND_MAGAZINES   2017.700935  \n",
       "PARENTING            2017.820000  \n",
       "PERSONALIZATION      2016.902597  \n",
       "PHOTOGRAPHY          2017.450658  \n",
       "PRODUCTIVITY         2017.344311  \n",
       "SHOPPING             2017.811881  \n",
       "SOCIAL               2017.631148  \n",
       "SPORTS               2017.580420  \n",
       "TOOLS                2017.147340  \n",
       "TRAVEL_AND_LOCAL     2017.668293  \n",
       "VIDEO_PLAYERS        2017.262500  \n",
       "WEATHER              2017.413333  "
      ]
     },
     "execution_count": 183,
     "metadata": {},
     "output_type": "execute_result"
    }
   ],
   "source": [
    "#Group the data by category and explore the average rating\n",
    "gb = apps.groupby('Category')\n",
    "cat_mean = gb.mean()\n",
    "cat_mean"
   ]
  },
  {
   "cell_type": "code",
   "execution_count": 184,
   "metadata": {
    "scrolled": true
   },
   "outputs": [
    {
     "data": {
      "text/plain": [
       "<matplotlib.lines.Line2D at 0x1918ddb5860>"
      ]
     },
     "execution_count": 184,
     "metadata": {},
     "output_type": "execute_result"
    },
    {
     "data": {
      "image/png": "[encoded data removed]",
      "text/plain": [
       "<Figure size 1440x432 with 1 Axes>"
      ]
     },
     "metadata": {
      "needs_background": "light"
     },
     "output_type": "display_data"
    }
   ],
   "source": [
    "rating = cat_mean.plot(kind='bar', y='Rating', figsize=(20,6))\n",
    "\n",
    "rating.set_ylim(3, 4.5)\n",
    "\n",
    "rating.axhline(y=4, color='r')"
   ]
  },
  {
   "cell_type": "markdown",
   "metadata": {},
   "source": [
    "We can see that Events apps are usually rated very high in the market. Other highly rated categories are Art, Books and Education.\n",
    "\n",
    "All categories except Dating apps have an average rating above 4. It could either be that people are often frustrated with dating apps, or that these apps tend to have poor design and functionality."
   ]
  }
 ],
 "metadata": {
  "kernelspec": {
   "display_name": "Python 3",
   "language": "python",
   "name": "python3"
  },
  "language_info": {
   "codemirror_mode": {
    "name": "ipython",
    "version": 3
   },
   "file_extension": ".py",
   "mimetype": "text/x-python",
   "name": "python",
   "nbconvert_exporter": "python",
   "pygments_lexer": "ipython3",
   "version": "3.7.3"
  }
 },
 "nbformat": 4,
 "nbformat_minor": 2
}
